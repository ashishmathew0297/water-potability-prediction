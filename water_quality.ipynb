{
 "cells": [
  {
   "cell_type": "code",
   "execution_count": 19,
   "metadata": {
    "vscode": {
     "languageId": "r"
    }
   },
   "outputs": [
    {
     "name": "stderr",
     "output_type": "stream",
     "text": [
      "Warning message:\n",
      "\"package 'corrplot' was built under R version 4.3.3\"\n",
      "corrplot 0.92 loaded\n",
      "\n"
     ]
    }
   ],
   "source": [
    "library(rpart)\n",
    "library(rpart.plot)\n",
    "library(corrplot)"
   ]
  },
  {
   "cell_type": "code",
   "execution_count": 8,
   "metadata": {
    "vscode": {
     "languageId": "r"
    }
   },
   "outputs": [
    {
     "data": {
      "text/html": [
       "<table class=\"dataframe\">\n",
       "<caption>A data.frame: 6 × 10</caption>\n",
       "<thead>\n",
       "\t<tr><th></th><th scope=col>ph</th><th scope=col>Hardness</th><th scope=col>Solids</th><th scope=col>Chloramines</th><th scope=col>Sulfate</th><th scope=col>Conductivity</th><th scope=col>Organic_carbon</th><th scope=col>Trihalomethanes</th><th scope=col>Turbidity</th><th scope=col>Potability</th></tr>\n",
       "\t<tr><th></th><th scope=col>&lt;dbl&gt;</th><th scope=col>&lt;dbl&gt;</th><th scope=col>&lt;dbl&gt;</th><th scope=col>&lt;dbl&gt;</th><th scope=col>&lt;dbl&gt;</th><th scope=col>&lt;dbl&gt;</th><th scope=col>&lt;dbl&gt;</th><th scope=col>&lt;dbl&gt;</th><th scope=col>&lt;dbl&gt;</th><th scope=col>&lt;int&gt;</th></tr>\n",
       "</thead>\n",
       "<tbody>\n",
       "\t<tr><th scope=row>1</th><td>      NA</td><td>204.8905</td><td>20791.32</td><td>7.300212</td><td>368.5164</td><td>564.3087</td><td>10.379783</td><td> 86.99097</td><td>2.963135</td><td>0</td></tr>\n",
       "\t<tr><th scope=row>2</th><td>3.716080</td><td>129.4229</td><td>18630.06</td><td>6.635246</td><td>      NA</td><td>592.8854</td><td>15.180013</td><td> 56.32908</td><td>4.500656</td><td>0</td></tr>\n",
       "\t<tr><th scope=row>3</th><td>8.099124</td><td>224.2363</td><td>19909.54</td><td>9.275884</td><td>      NA</td><td>418.6062</td><td>16.868637</td><td> 66.42009</td><td>3.055934</td><td>0</td></tr>\n",
       "\t<tr><th scope=row>4</th><td>8.316766</td><td>214.3734</td><td>22018.42</td><td>8.059332</td><td>356.8861</td><td>363.2665</td><td>18.436524</td><td>100.34167</td><td>4.628771</td><td>0</td></tr>\n",
       "\t<tr><th scope=row>5</th><td>9.092223</td><td>181.1015</td><td>17978.99</td><td>6.546600</td><td>310.1357</td><td>398.4108</td><td>11.558279</td><td> 31.99799</td><td>4.075075</td><td>0</td></tr>\n",
       "\t<tr><th scope=row>6</th><td>5.584087</td><td>188.3133</td><td>28748.69</td><td>7.544869</td><td>326.6784</td><td>280.4679</td><td> 8.399735</td><td> 54.91786</td><td>2.559708</td><td>0</td></tr>\n",
       "</tbody>\n",
       "</table>\n"
      ],
      "text/latex": [
       "A data.frame: 6 × 10\n",
       "\\begin{tabular}{r|llllllllll}\n",
       "  & ph & Hardness & Solids & Chloramines & Sulfate & Conductivity & Organic\\_carbon & Trihalomethanes & Turbidity & Potability\\\\\n",
       "  & <dbl> & <dbl> & <dbl> & <dbl> & <dbl> & <dbl> & <dbl> & <dbl> & <dbl> & <int>\\\\\n",
       "\\hline\n",
       "\t1 &       NA & 204.8905 & 20791.32 & 7.300212 & 368.5164 & 564.3087 & 10.379783 &  86.99097 & 2.963135 & 0\\\\\n",
       "\t2 & 3.716080 & 129.4229 & 18630.06 & 6.635246 &       NA & 592.8854 & 15.180013 &  56.32908 & 4.500656 & 0\\\\\n",
       "\t3 & 8.099124 & 224.2363 & 19909.54 & 9.275884 &       NA & 418.6062 & 16.868637 &  66.42009 & 3.055934 & 0\\\\\n",
       "\t4 & 8.316766 & 214.3734 & 22018.42 & 8.059332 & 356.8861 & 363.2665 & 18.436524 & 100.34167 & 4.628771 & 0\\\\\n",
       "\t5 & 9.092223 & 181.1015 & 17978.99 & 6.546600 & 310.1357 & 398.4108 & 11.558279 &  31.99799 & 4.075075 & 0\\\\\n",
       "\t6 & 5.584087 & 188.3133 & 28748.69 & 7.544869 & 326.6784 & 280.4679 &  8.399735 &  54.91786 & 2.559708 & 0\\\\\n",
       "\\end{tabular}\n"
      ],
      "text/markdown": [
       "\n",
       "A data.frame: 6 × 10\n",
       "\n",
       "| <!--/--> | ph &lt;dbl&gt; | Hardness &lt;dbl&gt; | Solids &lt;dbl&gt; | Chloramines &lt;dbl&gt; | Sulfate &lt;dbl&gt; | Conductivity &lt;dbl&gt; | Organic_carbon &lt;dbl&gt; | Trihalomethanes &lt;dbl&gt; | Turbidity &lt;dbl&gt; | Potability &lt;int&gt; |\n",
       "|---|---|---|---|---|---|---|---|---|---|---|\n",
       "| 1 |       NA | 204.8905 | 20791.32 | 7.300212 | 368.5164 | 564.3087 | 10.379783 |  86.99097 | 2.963135 | 0 |\n",
       "| 2 | 3.716080 | 129.4229 | 18630.06 | 6.635246 |       NA | 592.8854 | 15.180013 |  56.32908 | 4.500656 | 0 |\n",
       "| 3 | 8.099124 | 224.2363 | 19909.54 | 9.275884 |       NA | 418.6062 | 16.868637 |  66.42009 | 3.055934 | 0 |\n",
       "| 4 | 8.316766 | 214.3734 | 22018.42 | 8.059332 | 356.8861 | 363.2665 | 18.436524 | 100.34167 | 4.628771 | 0 |\n",
       "| 5 | 9.092223 | 181.1015 | 17978.99 | 6.546600 | 310.1357 | 398.4108 | 11.558279 |  31.99799 | 4.075075 | 0 |\n",
       "| 6 | 5.584087 | 188.3133 | 28748.69 | 7.544869 | 326.6784 | 280.4679 |  8.399735 |  54.91786 | 2.559708 | 0 |\n",
       "\n"
      ],
      "text/plain": [
       "  ph       Hardness Solids   Chloramines Sulfate  Conductivity Organic_carbon\n",
       "1       NA 204.8905 20791.32 7.300212    368.5164 564.3087     10.379783     \n",
       "2 3.716080 129.4229 18630.06 6.635246          NA 592.8854     15.180013     \n",
       "3 8.099124 224.2363 19909.54 9.275884          NA 418.6062     16.868637     \n",
       "4 8.316766 214.3734 22018.42 8.059332    356.8861 363.2665     18.436524     \n",
       "5 9.092223 181.1015 17978.99 6.546600    310.1357 398.4108     11.558279     \n",
       "6 5.584087 188.3133 28748.69 7.544869    326.6784 280.4679      8.399735     \n",
       "  Trihalomethanes Turbidity Potability\n",
       "1  86.99097       2.963135  0         \n",
       "2  56.32908       4.500656  0         \n",
       "3  66.42009       3.055934  0         \n",
       "4 100.34167       4.628771  0         \n",
       "5  31.99799       4.075075  0         \n",
       "6  54.91786       2.559708  0         "
      ]
     },
     "metadata": {},
     "output_type": "display_data"
    },
    {
     "data": {
      "text/plain": [
       "       ph            Hardness          Solids         Chloramines    \n",
       " Min.   : 0.000   Min.   : 47.43   Min.   :  320.9   Min.   : 0.352  \n",
       " 1st Qu.: 6.093   1st Qu.:176.85   1st Qu.:15666.7   1st Qu.: 6.127  \n",
       " Median : 7.037   Median :196.97   Median :20927.8   Median : 7.130  \n",
       " Mean   : 7.081   Mean   :196.37   Mean   :22014.1   Mean   : 7.122  \n",
       " 3rd Qu.: 8.062   3rd Qu.:216.67   3rd Qu.:27332.8   3rd Qu.: 8.115  \n",
       " Max.   :14.000   Max.   :323.12   Max.   :61227.2   Max.   :13.127  \n",
       " NA's   :491                                                         \n",
       "    Sulfate       Conductivity   Organic_carbon  Trihalomethanes  \n",
       " Min.   :129.0   Min.   :181.5   Min.   : 2.20   Min.   :  0.738  \n",
       " 1st Qu.:307.7   1st Qu.:365.7   1st Qu.:12.07   1st Qu.: 55.845  \n",
       " Median :333.1   Median :421.9   Median :14.22   Median : 66.622  \n",
       " Mean   :333.8   Mean   :426.2   Mean   :14.28   Mean   : 66.396  \n",
       " 3rd Qu.:360.0   3rd Qu.:481.8   3rd Qu.:16.56   3rd Qu.: 77.337  \n",
       " Max.   :481.0   Max.   :753.3   Max.   :28.30   Max.   :124.000  \n",
       " NA's   :781                                     NA's   :162      \n",
       "   Turbidity       Potability    \n",
       " Min.   :1.450   Min.   :0.0000  \n",
       " 1st Qu.:3.440   1st Qu.:0.0000  \n",
       " Median :3.955   Median :0.0000  \n",
       " Mean   :3.967   Mean   :0.3901  \n",
       " 3rd Qu.:4.500   3rd Qu.:1.0000  \n",
       " Max.   :6.739   Max.   :1.0000  \n",
       "                                 "
      ]
     },
     "metadata": {},
     "output_type": "display_data"
    },
    {
     "data": {
      "text/html": [
       "3276"
      ],
      "text/latex": [
       "3276"
      ],
      "text/markdown": [
       "3276"
      ],
      "text/plain": [
       "[1] 3276"
      ]
     },
     "metadata": {},
     "output_type": "display_data"
    },
    {
     "data": {
      "text/html": [
       "<style>\n",
       ".list-inline {list-style: none; margin:0; padding: 0}\n",
       ".list-inline>li {display: inline-block}\n",
       ".list-inline>li:not(:last-child)::after {content: \"\\00b7\"; padding: 0 .5ex}\n",
       "</style>\n",
       "<ol class=list-inline><li>3276</li><li>10</li></ol>\n"
      ],
      "text/latex": [
       "\\begin{enumerate*}\n",
       "\\item 3276\n",
       "\\item 10\n",
       "\\end{enumerate*}\n"
      ],
      "text/markdown": [
       "1. 3276\n",
       "2. 10\n",
       "\n",
       "\n"
      ],
      "text/plain": [
       "[1] 3276   10"
      ]
     },
     "metadata": {},
     "output_type": "display_data"
    }
   ],
   "source": [
    "\n",
    "water.quality <- read.csv('C:/Users/ashis/Downloads/water_potability.csv')\n",
    "head(water.quality)\n",
    "summary(water.quality)\n",
    "nrow(water.quality)\n",
    "dim(water.quality)"
   ]
  },
  {
   "cell_type": "code",
   "execution_count": 9,
   "metadata": {
    "vscode": {
     "languageId": "r"
    }
   },
   "outputs": [
    {
     "data": {
      "text/html": [
       "1265"
      ],
      "text/latex": [
       "1265"
      ],
      "text/markdown": [
       "1265"
      ],
      "text/plain": [
       "[1] 1265"
      ]
     },
     "metadata": {},
     "output_type": "display_data"
    },
    {
     "data": {
      "text/html": [
       "491"
      ],
      "text/latex": [
       "491"
      ],
      "text/markdown": [
       "491"
      ],
      "text/plain": [
       "[1] 491"
      ]
     },
     "metadata": {},
     "output_type": "display_data"
    },
    {
     "data": {
      "text/html": [
       "0"
      ],
      "text/latex": [
       "0"
      ],
      "text/markdown": [
       "0"
      ],
      "text/plain": [
       "[1] 0"
      ]
     },
     "metadata": {},
     "output_type": "display_data"
    },
    {
     "data": {
      "text/html": [
       "0"
      ],
      "text/latex": [
       "0"
      ],
      "text/markdown": [
       "0"
      ],
      "text/plain": [
       "[1] 0"
      ]
     },
     "metadata": {},
     "output_type": "display_data"
    },
    {
     "data": {
      "text/html": [
       "0"
      ],
      "text/latex": [
       "0"
      ],
      "text/markdown": [
       "0"
      ],
      "text/plain": [
       "[1] 0"
      ]
     },
     "metadata": {},
     "output_type": "display_data"
    },
    {
     "data": {
      "text/html": [
       "781"
      ],
      "text/latex": [
       "781"
      ],
      "text/markdown": [
       "781"
      ],
      "text/plain": [
       "[1] 781"
      ]
     },
     "metadata": {},
     "output_type": "display_data"
    },
    {
     "data": {
      "text/html": [
       "0"
      ],
      "text/latex": [
       "0"
      ],
      "text/markdown": [
       "0"
      ],
      "text/plain": [
       "[1] 0"
      ]
     },
     "metadata": {},
     "output_type": "display_data"
    },
    {
     "data": {
      "text/html": [
       "0"
      ],
      "text/latex": [
       "0"
      ],
      "text/markdown": [
       "0"
      ],
      "text/plain": [
       "[1] 0"
      ]
     },
     "metadata": {},
     "output_type": "display_data"
    },
    {
     "data": {
      "text/html": [
       "162"
      ],
      "text/latex": [
       "162"
      ],
      "text/markdown": [
       "162"
      ],
      "text/plain": [
       "[1] 162"
      ]
     },
     "metadata": {},
     "output_type": "display_data"
    },
    {
     "data": {
      "text/html": [
       "0"
      ],
      "text/latex": [
       "0"
      ],
      "text/markdown": [
       "0"
      ],
      "text/plain": [
       "[1] 0"
      ]
     },
     "metadata": {},
     "output_type": "display_data"
    },
    {
     "data": {
      "text/html": [
       "0"
      ],
      "text/latex": [
       "0"
      ],
      "text/markdown": [
       "0"
      ],
      "text/plain": [
       "[1] 0"
      ]
     },
     "metadata": {},
     "output_type": "display_data"
    }
   ],
   "source": [
    "sum(apply(water.quality, 1, anyNA))\n",
    "sum(is.na(water.quality$ph))\n",
    "sum(is.na(water.quality$Hardness))\n",
    "sum(is.na(water.quality$Solids))\n",
    "sum(is.na(water.quality$Chloramines))\n",
    "sum(is.na(water.quality$Sulfate))\n",
    "sum(is.na(water.quality$Conductivity))\n",
    "sum(is.na(water.quality$Organic_carbon))\n",
    "sum(is.na(water.quality$Trihalomethanes))\n",
    "sum(is.na(water.quality$Turbidity))\n",
    "sum(is.na(water.quality$Potability))"
   ]
  },
  {
   "cell_type": "code",
   "execution_count": 10,
   "metadata": {
    "vscode": {
     "languageId": "r"
    }
   },
   "outputs": [
    {
     "data": {
      "image/png": "[encoded data removed]",
      "text/plain": [
       "plot without title"
      ]
     },
     "metadata": {
      "image/png": {
       "height": 420,
       "width": 420
      }
     },
     "output_type": "display_data"
    }
   ],
   "source": [
    "pairs(water.quality)\n"
   ]
  },
  {
   "cell_type": "markdown",
   "metadata": {},
   "source": [
    "Since the pH, Sulfate and Trihalomethanes Columns have null values, we, for now, replace them with the median values. "
   ]
  },
  {
   "cell_type": "code",
   "execution_count": 11,
   "metadata": {
    "vscode": {
     "languageId": "r"
    }
   },
   "outputs": [],
   "source": [
    "water.quality$ph[is.na(water.quality$ph)] <- median(water.quality$ph, na.rm = TRUE)\n",
    "water.quality$Sulfate[is.na(water.quality$Sulfate)] <- median(water.quality$Sulfate, na.rm = TRUE)\n",
    "water.quality$Trihalomethanes[is.na(water.quality$Trihalomethanes)] <- median(water.quality$Trihalomethanes, na.rm = TRUE)"
   ]
  },
  {
   "cell_type": "code",
   "execution_count": 12,
   "metadata": {
    "vscode": {
     "languageId": "r"
    }
   },
   "outputs": [
    {
     "data": {
      "text/html": [
       "3276"
      ],
      "text/latex": [
       "3276"
      ],
      "text/markdown": [
       "3276"
      ],
      "text/plain": [
       "[1] 3276"
      ]
     },
     "metadata": {},
     "output_type": "display_data"
    }
   ],
   "source": [
    "nrow(water.quality)"
   ]
  },
  {
   "cell_type": "markdown",
   "metadata": {},
   "source": [
    "Looking at the pH values, for surface water systems, we can categorize the pH as follows\n",
    "\n",
    "- pH values below 6.5 are considered to be acidic\n",
    "- pH values between 6.5 to 8.5 are mapped to the normal pH category\n",
    "- pH values above 8.5 are considered to be basic\n",
    "\n",
    "[Source](https://www.knowyourh2o.com/indoor-4/the-ph-of-water)"
   ]
  },
  {
   "cell_type": "code",
   "execution_count": 13,
   "metadata": {
    "vscode": {
     "languageId": "r"
    }
   },
   "outputs": [],
   "source": [
    "water.quality$pH_category <- cut(water.quality$ph, \n",
    "                                 breaks = c(0, 6.5, 8.5, 14), \n",
    "                                 labels = c(\"acidic\", \"normal\", \"basic\"))"
   ]
  },
  {
   "cell_type": "code",
   "execution_count": 14,
   "metadata": {
    "vscode": {
     "languageId": "r"
    }
   },
   "outputs": [
    {
     "data": {
      "text/html": [
       "<table class=\"dataframe\">\n",
       "<caption>A data.frame: 6 × 11</caption>\n",
       "<thead>\n",
       "\t<tr><th></th><th scope=col>ph</th><th scope=col>Hardness</th><th scope=col>Solids</th><th scope=col>Chloramines</th><th scope=col>Sulfate</th><th scope=col>Conductivity</th><th scope=col>Organic_carbon</th><th scope=col>Trihalomethanes</th><th scope=col>Turbidity</th><th scope=col>Potability</th><th scope=col>pH_category</th></tr>\n",
       "\t<tr><th></th><th scope=col>&lt;dbl&gt;</th><th scope=col>&lt;dbl&gt;</th><th scope=col>&lt;dbl&gt;</th><th scope=col>&lt;dbl&gt;</th><th scope=col>&lt;dbl&gt;</th><th scope=col>&lt;dbl&gt;</th><th scope=col>&lt;dbl&gt;</th><th scope=col>&lt;dbl&gt;</th><th scope=col>&lt;dbl&gt;</th><th scope=col>&lt;int&gt;</th><th scope=col>&lt;fct&gt;</th></tr>\n",
       "</thead>\n",
       "<tbody>\n",
       "\t<tr><th scope=row>1</th><td>7.036752</td><td>204.8905</td><td>20791.32</td><td>7.300212</td><td>368.5164</td><td>564.3087</td><td>10.379783</td><td> 86.99097</td><td>2.963135</td><td>0</td><td>normal</td></tr>\n",
       "\t<tr><th scope=row>2</th><td>3.716080</td><td>129.4229</td><td>18630.06</td><td>6.635246</td><td>333.0735</td><td>592.8854</td><td>15.180013</td><td> 56.32908</td><td>4.500656</td><td>0</td><td>acidic</td></tr>\n",
       "\t<tr><th scope=row>3</th><td>8.099124</td><td>224.2363</td><td>19909.54</td><td>9.275884</td><td>333.0735</td><td>418.6062</td><td>16.868637</td><td> 66.42009</td><td>3.055934</td><td>0</td><td>normal</td></tr>\n",
       "\t<tr><th scope=row>4</th><td>8.316766</td><td>214.3734</td><td>22018.42</td><td>8.059332</td><td>356.8861</td><td>363.2665</td><td>18.436524</td><td>100.34167</td><td>4.628771</td><td>0</td><td>normal</td></tr>\n",
       "\t<tr><th scope=row>5</th><td>9.092223</td><td>181.1015</td><td>17978.99</td><td>6.546600</td><td>310.1357</td><td>398.4108</td><td>11.558279</td><td> 31.99799</td><td>4.075075</td><td>0</td><td>basic </td></tr>\n",
       "\t<tr><th scope=row>6</th><td>5.584087</td><td>188.3133</td><td>28748.69</td><td>7.544869</td><td>326.6784</td><td>280.4679</td><td> 8.399735</td><td> 54.91786</td><td>2.559708</td><td>0</td><td>acidic</td></tr>\n",
       "</tbody>\n",
       "</table>\n"
      ],
      "text/latex": [
       "A data.frame: 6 × 11\n",
       "\\begin{tabular}{r|lllllllllll}\n",
       "  & ph & Hardness & Solids & Chloramines & Sulfate & Conductivity & Organic\\_carbon & Trihalomethanes & Turbidity & Potability & pH\\_category\\\\\n",
       "  & <dbl> & <dbl> & <dbl> & <dbl> & <dbl> & <dbl> & <dbl> & <dbl> & <dbl> & <int> & <fct>\\\\\n",
       "\\hline\n",
       "\t1 & 7.036752 & 204.8905 & 20791.32 & 7.300212 & 368.5164 & 564.3087 & 10.379783 &  86.99097 & 2.963135 & 0 & normal\\\\\n",
       "\t2 & 3.716080 & 129.4229 & 18630.06 & 6.635246 & 333.0735 & 592.8854 & 15.180013 &  56.32908 & 4.500656 & 0 & acidic\\\\\n",
       "\t3 & 8.099124 & 224.2363 & 19909.54 & 9.275884 & 333.0735 & 418.6062 & 16.868637 &  66.42009 & 3.055934 & 0 & normal\\\\\n",
       "\t4 & 8.316766 & 214.3734 & 22018.42 & 8.059332 & 356.8861 & 363.2665 & 18.436524 & 100.34167 & 4.628771 & 0 & normal\\\\\n",
       "\t5 & 9.092223 & 181.1015 & 17978.99 & 6.546600 & 310.1357 & 398.4108 & 11.558279 &  31.99799 & 4.075075 & 0 & basic \\\\\n",
       "\t6 & 5.584087 & 188.3133 & 28748.69 & 7.544869 & 326.6784 & 280.4679 &  8.399735 &  54.91786 & 2.559708 & 0 & acidic\\\\\n",
       "\\end{tabular}\n"
      ],
      "text/markdown": [
       "\n",
       "A data.frame: 6 × 11\n",
       "\n",
       "| <!--/--> | ph &lt;dbl&gt; | Hardness &lt;dbl&gt; | Solids &lt;dbl&gt; | Chloramines &lt;dbl&gt; | Sulfate &lt;dbl&gt; | Conductivity &lt;dbl&gt; | Organic_carbon &lt;dbl&gt; | Trihalomethanes &lt;dbl&gt; | Turbidity &lt;dbl&gt; | Potability &lt;int&gt; | pH_category &lt;fct&gt; |\n",
       "|---|---|---|---|---|---|---|---|---|---|---|---|\n",
       "| 1 | 7.036752 | 204.8905 | 20791.32 | 7.300212 | 368.5164 | 564.3087 | 10.379783 |  86.99097 | 2.963135 | 0 | normal |\n",
       "| 2 | 3.716080 | 129.4229 | 18630.06 | 6.635246 | 333.0735 | 592.8854 | 15.180013 |  56.32908 | 4.500656 | 0 | acidic |\n",
       "| 3 | 8.099124 | 224.2363 | 19909.54 | 9.275884 | 333.0735 | 418.6062 | 16.868637 |  66.42009 | 3.055934 | 0 | normal |\n",
       "| 4 | 8.316766 | 214.3734 | 22018.42 | 8.059332 | 356.8861 | 363.2665 | 18.436524 | 100.34167 | 4.628771 | 0 | normal |\n",
       "| 5 | 9.092223 | 181.1015 | 17978.99 | 6.546600 | 310.1357 | 398.4108 | 11.558279 |  31.99799 | 4.075075 | 0 | basic  |\n",
       "| 6 | 5.584087 | 188.3133 | 28748.69 | 7.544869 | 326.6784 | 280.4679 |  8.399735 |  54.91786 | 2.559708 | 0 | acidic |\n",
       "\n"
      ],
      "text/plain": [
       "  ph       Hardness Solids   Chloramines Sulfate  Conductivity Organic_carbon\n",
       "1 7.036752 204.8905 20791.32 7.300212    368.5164 564.3087     10.379783     \n",
       "2 3.716080 129.4229 18630.06 6.635246    333.0735 592.8854     15.180013     \n",
       "3 8.099124 224.2363 19909.54 9.275884    333.0735 418.6062     16.868637     \n",
       "4 8.316766 214.3734 22018.42 8.059332    356.8861 363.2665     18.436524     \n",
       "5 9.092223 181.1015 17978.99 6.546600    310.1357 398.4108     11.558279     \n",
       "6 5.584087 188.3133 28748.69 7.544869    326.6784 280.4679      8.399735     \n",
       "  Trihalomethanes Turbidity Potability pH_category\n",
       "1  86.99097       2.963135  0          normal     \n",
       "2  56.32908       4.500656  0          acidic     \n",
       "3  66.42009       3.055934  0          normal     \n",
       "4 100.34167       4.628771  0          normal     \n",
       "5  31.99799       4.075075  0          basic      \n",
       "6  54.91786       2.559708  0          acidic     "
      ]
     },
     "metadata": {},
     "output_type": "display_data"
    },
    {
     "data": {
      "text/html": [
       "<style>\n",
       ".list-inline {list-style: none; margin:0; padding: 0}\n",
       ".list-inline>li {display: inline-block}\n",
       ".list-inline>li:not(:last-child)::after {content: \"\\00b7\"; padding: 0 .5ex}\n",
       "</style>\n",
       "<ol class=list-inline><li>3276</li><li>11</li></ol>\n"
      ],
      "text/latex": [
       "\\begin{enumerate*}\n",
       "\\item 3276\n",
       "\\item 11\n",
       "\\end{enumerate*}\n"
      ],
      "text/markdown": [
       "1. 3276\n",
       "2. 11\n",
       "\n",
       "\n"
      ],
      "text/plain": [
       "[1] 3276   11"
      ]
     },
     "metadata": {},
     "output_type": "display_data"
    }
   ],
   "source": [
    "head(water.quality)\n",
    "dim(water.quality)"
   ]
  },
  {
   "cell_type": "markdown",
   "metadata": {},
   "source": [
    "# Exploratory Data Analysis\n",
    "\n",
    "We will first be looking into the description of how our dataset is in terms of potable and not-potable water."
   ]
  },
  {
   "cell_type": "code",
   "execution_count": 16,
   "metadata": {
    "vscode": {
     "languageId": "r"
    }
   },
   "outputs": [
    {
     "name": "stdout",
     "output_type": "stream",
     "text": [
      "[1] \"Non-Potable\"\n"
     ]
    },
    {
     "data": {
      "text/plain": [
       "       ph            Hardness          Solids         Chloramines    \n",
       " Min.   : 0.000   Min.   : 98.45   Min.   :  320.9   Min.   : 1.684  \n",
       " 1st Qu.: 6.224   1st Qu.:177.82   1st Qu.:15663.1   1st Qu.: 6.156  \n",
       " Median : 7.037   Median :197.12   Median :20809.6   Median : 7.090  \n",
       " Mean   : 7.078   Mean   :196.73   Mean   :21777.5   Mean   : 7.092  \n",
       " 3rd Qu.: 7.941   3rd Qu.:216.12   3rd Qu.:27006.2   3rd Qu.: 8.066  \n",
       " Max.   :14.000   Max.   :304.24   Max.   :61227.2   Max.   :12.653  \n",
       "    Sulfate       Conductivity   Organic_carbon   Trihalomethanes  \n",
       " Min.   :203.4   Min.   :181.5   Min.   : 4.372   Min.   :  0.738  \n",
       " 1st Qu.:319.4   1st Qu.:368.5   1st Qu.:12.101   1st Qu.: 56.442  \n",
       " Median :333.1   Median :422.2   Median :14.294   Median : 66.622  \n",
       " Mean   :334.2   Mean   :426.7   Mean   :14.364   Mean   : 66.321  \n",
       " 3rd Qu.:348.3   3rd Qu.:480.7   3rd Qu.:16.649   3rd Qu.: 76.519  \n",
       " Max.   :460.1   Max.   :753.3   Max.   :28.300   Max.   :120.030  \n",
       "   Turbidity       Potability pH_category  \n",
       " Min.   :1.450   Min.   :0    acidic: 611  \n",
       " 1st Qu.:3.444   1st Qu.:0    normal:1059  \n",
       " Median :3.948   Median :0    basic : 327  \n",
       " Mean   :3.966   Mean   :0    NA's  :   1  \n",
       " 3rd Qu.:4.496   3rd Qu.:0                 \n",
       " Max.   :6.739   Max.   :0                 "
      ]
     },
     "metadata": {},
     "output_type": "display_data"
    },
    {
     "name": "stdout",
     "output_type": "stream",
     "text": [
      "[1] \"Potable\"\n"
     ]
    },
    {
     "data": {
      "text/plain": [
       "       ph             Hardness          Solids         Chloramines    \n",
       " Min.   : 0.2275   Min.   : 47.43   Min.   :  728.8   Min.   : 0.352  \n",
       " 1st Qu.: 6.3518   1st Qu.:174.33   1st Qu.:15669.0   1st Qu.: 6.094  \n",
       " Median : 7.0368   Median :196.63   Median :21199.4   Median : 7.215  \n",
       " Mean   : 7.0687   Mean   :195.80   Mean   :22384.0   Mean   : 7.169  \n",
       " 3rd Qu.: 7.7801   3rd Qu.:218.00   3rd Qu.:27973.2   3rd Qu.: 8.199  \n",
       " Max.   :13.1754   Max.   :323.12   Max.   :56488.7   Max.   :13.127  \n",
       "    Sulfate       Conductivity   Organic_carbon  Trihalomethanes  \n",
       " Min.   :129.0   Min.   :201.6   Min.   : 2.20   Min.   :  8.176  \n",
       " 1st Qu.:313.1   1st Qu.:360.9   1st Qu.:12.03   1st Qu.: 56.911  \n",
       " Median :333.1   Median :420.7   Median :14.16   Median : 66.622  \n",
       " Mean   :332.7   Mean   :425.4   Mean   :14.16   Mean   : 66.543  \n",
       " 3rd Qu.:354.8   3rd Qu.:484.2   3rd Qu.:16.36   3rd Qu.: 77.067  \n",
       " Max.   :481.0   Max.   :695.4   Max.   :23.60   Max.   :124.000  \n",
       "   Turbidity       Potability pH_category \n",
       " Min.   :1.492   Min.   :1    acidic:356  \n",
       " 1st Qu.:3.431   1st Qu.:1    normal:760  \n",
       " Median :3.959   Median :1    basic :162  \n",
       " Mean   :3.968   Mean   :1                \n",
       " 3rd Qu.:4.510   3rd Qu.:1                \n",
       " Max.   :6.494   Max.   :1                "
      ]
     },
     "metadata": {},
     "output_type": "display_data"
    }
   ],
   "source": [
    "print(\"Non-Potable\")\n",
    "summary(subset(water.quality, Potability == 0))\n",
    "print(\"Potable\")\n",
    "summary(subset(water.quality, Potability == 1))"
   ]
  },
  {
   "cell_type": "markdown",
   "metadata": {},
   "source": [
    "We will then look at all of the rows based on the pH category of the water"
   ]
  },
  {
   "cell_type": "code",
   "execution_count": 17,
   "metadata": {
    "vscode": {
     "languageId": "r"
    }
   },
   "outputs": [
    {
     "name": "stdout",
     "output_type": "stream",
     "text": [
      "[1] \"Acidic\"\n"
     ]
    },
    {
     "data": {
      "text/plain": [
       "       ph            Hardness          Solids         Chloramines     \n",
       " Min.   :0.2275   Min.   : 97.28   Min.   :  728.8   Min.   : 0.5304  \n",
       " 1st Qu.:4.9925   1st Qu.:169.74   1st Qu.:16100.1   1st Qu.: 6.2201  \n",
       " Median :5.6664   Median :190.32   Median :21532.5   Median : 7.2587  \n",
       " Mean   :5.4409   Mean   :192.31   Mean   :22640.4   Mean   : 7.2472  \n",
       " 3rd Qu.:6.1378   3rd Qu.:213.11   3rd Qu.:27818.2   3rd Qu.: 8.2738  \n",
       " Max.   :6.4991   Max.   :323.12   Max.   :56867.9   Max.   :13.0438  \n",
       "    Sulfate       Conductivity   Organic_carbon  Trihalomethanes  \n",
       " Min.   :180.2   Min.   :217.4   Min.   : 2.20   Min.   :  8.577  \n",
       " 1st Qu.:316.1   1st Qu.:364.4   1st Qu.:11.91   1st Qu.: 56.813  \n",
       " Median :333.1   Median :423.6   Median :14.03   Median : 66.622  \n",
       " Mean   :333.3   Mean   :425.7   Mean   :14.18   Mean   : 66.416  \n",
       " 3rd Qu.:348.1   3rd Qu.:482.5   3rd Qu.:16.43   3rd Qu.: 76.464  \n",
       " Max.   :481.0   Max.   :708.2   Max.   :27.01   Max.   :120.030  \n",
       "   Turbidity       Potability     pH_category \n",
       " Min.   :1.450   Min.   :0.0000   acidic:967  \n",
       " 1st Qu.:3.488   1st Qu.:0.0000   normal:  0  \n",
       " Median :3.998   Median :0.0000   basic :  0  \n",
       " Mean   :4.004   Mean   :0.3681               \n",
       " 3rd Qu.:4.543   3rd Qu.:1.0000               \n",
       " Max.   :6.494   Max.   :1.0000               "
      ]
     },
     "metadata": {},
     "output_type": "display_data"
    },
    {
     "name": "stdout",
     "output_type": "stream",
     "text": [
      "[1] \"Normal\"\n"
     ]
    },
    {
     "data": {
      "text/plain": [
       "       ph           Hardness          Solids         Chloramines    \n",
       " Min.   :6.504   Min.   : 98.37   Min.   :  320.9   Min.   : 0.352  \n",
       " 1st Qu.:7.037   1st Qu.:179.80   1st Qu.:15899.7   1st Qu.: 6.124  \n",
       " Median :7.037   Median :198.54   Median :20922.2   Median : 7.116  \n",
       " Mean   :7.308   Mean   :197.82   Mean   :21936.5   Mean   : 7.098  \n",
       " 3rd Qu.:7.698   3rd Qu.:216.43   3rd Qu.:27145.9   3rd Qu.: 8.065  \n",
       " Max.   :8.491   Max.   :306.63   Max.   :61227.2   Max.   :12.580  \n",
       "    Sulfate       Conductivity   Organic_carbon   Trihalomethanes  \n",
       " Min.   :187.2   Min.   :181.5   Min.   : 4.372   Min.   :  0.738  \n",
       " 1st Qu.:317.0   1st Qu.:365.1   1st Qu.:12.066   1st Qu.: 56.723  \n",
       " Median :333.1   Median :421.1   Median :14.281   Median : 66.622  \n",
       " Mean   :333.3   Mean   :425.7   Mean   :14.301   Mean   : 66.467  \n",
       " 3rd Qu.:350.6   3rd Qu.:480.2   3rd Qu.:16.571   3rd Qu.: 77.135  \n",
       " Max.   :476.5   Max.   :666.7   Max.   :28.300   Max.   :124.000  \n",
       "   Turbidity       Potability     pH_category  \n",
       " Min.   :1.492   Min.   :0.0000   acidic:   0  \n",
       " 1st Qu.:3.433   1st Qu.:0.0000   normal:1819  \n",
       " Median :3.943   Median :0.0000   basic :   0  \n",
       " Mean   :3.955   Mean   :0.4178                \n",
       " 3rd Qu.:4.473   3rd Qu.:1.0000                \n",
       " Max.   :6.739   Max.   :1.0000                "
      ]
     },
     "metadata": {},
     "output_type": "display_data"
    },
    {
     "name": "stdout",
     "output_type": "stream",
     "text": [
      "[1] \"Basic\"\n"
     ]
    },
    {
     "data": {
      "text/plain": [
       "       ph            Hardness          Solids       Chloramines    \n",
       " Min.   : 8.502   Min.   : 47.43   Min.   : 2553   Min.   : 2.103  \n",
       " 1st Qu.: 8.828   1st Qu.:174.94   1st Qu.:14054   1st Qu.: 6.011  \n",
       " Median : 9.239   Median :200.74   Median :19678   Median : 6.963  \n",
       " Mean   : 9.449   Mean   :198.98   Mean   :21008   Mean   : 6.964  \n",
       " 3rd Qu.: 9.879   3rd Qu.:222.97   3rd Qu.:26945   3rd Qu.: 7.944  \n",
       " Max.   :14.000   Max.   :317.34   Max.   :56489   Max.   :13.127  \n",
       "    Sulfate       Conductivity   Organic_carbon   Trihalomethanes \n",
       " Min.   :129.0   Min.   :258.9   Min.   : 5.188   Min.   : 18.10  \n",
       " 1st Qu.:320.3   1st Qu.:371.5   1st Qu.:12.381   1st Qu.: 55.92  \n",
       " Median :333.1   Median :423.1   Median :14.359   Median : 66.62  \n",
       " Mean   :335.5   Mean   :429.0   Mean   :14.449   Mean   : 66.15  \n",
       " 3rd Qu.:352.7   3rd Qu.:485.4   3rd Qu.:16.670   3rd Qu.: 75.86  \n",
       " Max.   :460.1   Max.   :753.3   Max.   :23.918   Max.   :114.21  \n",
       "   Turbidity       Potability     pH_category \n",
       " Min.   :1.844   Min.   :0.0000   acidic:  0  \n",
       " 1st Qu.:3.355   1st Qu.:0.0000   normal:  0  \n",
       " Median :3.911   Median :0.0000   basic :489  \n",
       " Mean   :3.934   Mean   :0.3313               \n",
       " 3rd Qu.:4.517   3rd Qu.:1.0000               \n",
       " Max.   :5.992   Max.   :1.0000               "
      ]
     },
     "metadata": {},
     "output_type": "display_data"
    }
   ],
   "source": [
    "print(\"Acidic\")\n",
    "summary(subset(water.quality, pH_category == \"acidic\"))\n",
    "print(\"Normal\")\n",
    "summary(subset(water.quality, pH_category == \"normal\"))\n",
    "print(\"Basic\")\n",
    "summary(subset(water.quality, pH_category == \"basic\"))"
   ]
  },
  {
   "cell_type": "code",
   "execution_count": 29,
   "metadata": {
    "vscode": {
     "languageId": "r"
    }
   },
   "outputs": [
    {
     "data": {
      "image/png": "[encoded data removed]",
      "text/plain": [
       "Plot with title \"\""
      ]
     },
     "metadata": {
      "image/png": {
       "height": 420,
       "width": 420
      }
     },
     "output_type": "display_data"
    }
   ],
   "source": [
    "correlations <- cor(water.quality[, 1:9])\n",
    "corrplot(correlations, method=\"number\", col=colorRampPalette(c(\"blue\",\"red\"))(20))\n"
   ]
  },
  {
   "cell_type": "markdown",
   "metadata": {},
   "source": [
    "All the features have very weak correlations with one another. Hence they are independent of one another."
   ]
  },
  {
   "cell_type": "code",
   "execution_count": null,
   "metadata": {
    "vscode": {
     "languageId": "r"
    }
   },
   "outputs": [],
   "source": []
  }
 ],
 "metadata": {
  "kernelspec": {
   "display_name": "R",
   "language": "R",
   "name": "ir"
  },
  "language_info": {
   "codemirror_mode": "r",
   "file_extension": ".r",
   "mimetype": "text/x-r-source",
   "name": "R",
   "pygments_lexer": "r",
   "version": "4.3.2"
  }
 },
 "nbformat": 4,
 "nbformat_minor": 2
}
