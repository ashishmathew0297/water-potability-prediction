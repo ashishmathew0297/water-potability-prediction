{
 "cells": [
  {
   "cell_type": "markdown",
   "metadata": {},
   "source": [
    "# Predicting the Potability of Water Samples\n",
    "\n",
    "Water plays a key role to every living being in life. Water plays a key role in major bodily functions from the flow of blood in our bodies to maintaining body temperature. Water is also used in several industries such as in food and medicine. Water also provides habitats for several species of animals as both a supply of drinking water as well as a place to live in.\n",
    "\n",
    "Hence, it is imperative that the water we have at hand is clean and safe to consume, which in today's day and age is not as common as we would think it to be. This project takes samples from several sources of water and focuses on predicting whether a given sample of water is potable or not based on several factors given to us."
   ]
  },
  {
   "cell_type": "code",
   "execution_count": 1,
   "metadata": {
    "vscode": {
     "languageId": "r"
    }
   },
   "outputs": [
    {
     "name": "stderr",
     "output_type": "stream",
     "text": [
      "Warning message:\n",
      "\"package 'ggplot2' was built under R version 4.3.3\"\n",
      "Warning message:\n",
      "\"package 'mice' was built under R version 4.3.3\"\n",
      "Warning message in check_dep_version():\n",
      "\"ABI version mismatch: \n",
      "lme4 was built with Matrix ABI version 1\n",
      "Current Matrix ABI version is 0\n",
      "Please re-install lme4 from source or restore original 'Matrix' package\"\n",
      "\n",
      "Attaching package: 'mice'\n",
      "\n",
      "\n",
      "The following object is masked from 'package:stats':\n",
      "\n",
      "    filter\n",
      "\n",
      "\n",
      "The following objects are masked from 'package:base':\n",
      "\n",
      "    cbind, rbind\n",
      "\n",
      "\n",
      "Warning message:\n",
      "\"package 'missForest' was built under R version 4.3.3\"\n",
      "Warning message:\n",
      "\"package 'corrplot' was built under R version 4.3.3\"\n",
      "corrplot 0.92 loaded\n",
      "\n",
      "Warning message:\n",
      "\"package 'rpart' was built under R version 4.3.3\"\n",
      "Warning message:\n",
      "\"package 'rpart.plot' was built under R version 4.3.3\"\n",
      "Warning message:\n",
      "\"package 'pROC' was built under R version 4.3.3\"\n",
      "Type 'citation(\"pROC\")' for a citation.\n",
      "\n",
      "\n",
      "Attaching package: 'pROC'\n",
      "\n",
      "\n",
      "The following objects are masked from 'package:stats':\n",
      "\n",
      "    cov, smooth, var\n",
      "\n",
      "\n"
     ]
    }
   ],
   "source": [
    "library(ggplot2)\n",
    "library(mice)\n",
    "library(missForest)\n",
    "library(corrplot)\n",
    "library(moments)\n",
    "library(rpart)\n",
    "library(rpart.plot)\n",
    "library(pROC)"
   ]
  },
  {
   "cell_type": "code",
   "execution_count": 2,
   "metadata": {
    "vscode": {
     "languageId": "r"
    }
   },
   "outputs": [
    {
     "data": {
      "text/html": [
       "<table class=\"dataframe\">\n",
       "<caption>A data.frame: 6 × 10</caption>\n",
       "<thead>\n",
       "\t<tr><th></th><th scope=col>ph</th><th scope=col>Hardness</th><th scope=col>Solids</th><th scope=col>Chloramines</th><th scope=col>Sulfate</th><th scope=col>Conductivity</th><th scope=col>Organic_carbon</th><th scope=col>Trihalomethanes</th><th scope=col>Turbidity</th><th scope=col>Potability</th></tr>\n",
       "\t<tr><th></th><th scope=col>&lt;dbl&gt;</th><th scope=col>&lt;dbl&gt;</th><th scope=col>&lt;dbl&gt;</th><th scope=col>&lt;dbl&gt;</th><th scope=col>&lt;dbl&gt;</th><th scope=col>&lt;dbl&gt;</th><th scope=col>&lt;dbl&gt;</th><th scope=col>&lt;dbl&gt;</th><th scope=col>&lt;dbl&gt;</th><th scope=col>&lt;int&gt;</th></tr>\n",
       "</thead>\n",
       "<tbody>\n",
       "\t<tr><th scope=row>1</th><td>      NA</td><td>204.8905</td><td>20791.32</td><td>7.300212</td><td>368.5164</td><td>564.3087</td><td>10.379783</td><td> 86.99097</td><td>2.963135</td><td>0</td></tr>\n",
       "\t<tr><th scope=row>2</th><td>3.716080</td><td>129.4229</td><td>18630.06</td><td>6.635246</td><td>      NA</td><td>592.8854</td><td>15.180013</td><td> 56.32908</td><td>4.500656</td><td>0</td></tr>\n",
       "\t<tr><th scope=row>3</th><td>8.099124</td><td>224.2363</td><td>19909.54</td><td>9.275884</td><td>      NA</td><td>418.6062</td><td>16.868637</td><td> 66.42009</td><td>3.055934</td><td>0</td></tr>\n",
       "\t<tr><th scope=row>4</th><td>8.316766</td><td>214.3734</td><td>22018.42</td><td>8.059332</td><td>356.8861</td><td>363.2665</td><td>18.436524</td><td>100.34167</td><td>4.628771</td><td>0</td></tr>\n",
       "\t<tr><th scope=row>5</th><td>9.092223</td><td>181.1015</td><td>17978.99</td><td>6.546600</td><td>310.1357</td><td>398.4108</td><td>11.558279</td><td> 31.99799</td><td>4.075075</td><td>0</td></tr>\n",
       "\t<tr><th scope=row>6</th><td>5.584087</td><td>188.3133</td><td>28748.69</td><td>7.544869</td><td>326.6784</td><td>280.4679</td><td> 8.399735</td><td> 54.91786</td><td>2.559708</td><td>0</td></tr>\n",
       "</tbody>\n",
       "</table>\n"
      ],
      "text/latex": [
       "A data.frame: 6 × 10\n",
       "\\begin{tabular}{r|llllllllll}\n",
       "  & ph & Hardness & Solids & Chloramines & Sulfate & Conductivity & Organic\\_carbon & Trihalomethanes & Turbidity & Potability\\\\\n",
       "  & <dbl> & <dbl> & <dbl> & <dbl> & <dbl> & <dbl> & <dbl> & <dbl> & <dbl> & <int>\\\\\n",
       "\\hline\n",
       "\t1 &       NA & 204.8905 & 20791.32 & 7.300212 & 368.5164 & 564.3087 & 10.379783 &  86.99097 & 2.963135 & 0\\\\\n",
       "\t2 & 3.716080 & 129.4229 & 18630.06 & 6.635246 &       NA & 592.8854 & 15.180013 &  56.32908 & 4.500656 & 0\\\\\n",
       "\t3 & 8.099124 & 224.2363 & 19909.54 & 9.275884 &       NA & 418.6062 & 16.868637 &  66.42009 & 3.055934 & 0\\\\\n",
       "\t4 & 8.316766 & 214.3734 & 22018.42 & 8.059332 & 356.8861 & 363.2665 & 18.436524 & 100.34167 & 4.628771 & 0\\\\\n",
       "\t5 & 9.092223 & 181.1015 & 17978.99 & 6.546600 & 310.1357 & 398.4108 & 11.558279 &  31.99799 & 4.075075 & 0\\\\\n",
       "\t6 & 5.584087 & 188.3133 & 28748.69 & 7.544869 & 326.6784 & 280.4679 &  8.399735 &  54.91786 & 2.559708 & 0\\\\\n",
       "\\end{tabular}\n"
      ],
      "text/markdown": [
       "\n",
       "A data.frame: 6 × 10\n",
       "\n",
       "| <!--/--> | ph &lt;dbl&gt; | Hardness &lt;dbl&gt; | Solids &lt;dbl&gt; | Chloramines &lt;dbl&gt; | Sulfate &lt;dbl&gt; | Conductivity &lt;dbl&gt; | Organic_carbon &lt;dbl&gt; | Trihalomethanes &lt;dbl&gt; | Turbidity &lt;dbl&gt; | Potability &lt;int&gt; |\n",
       "|---|---|---|---|---|---|---|---|---|---|---|\n",
       "| 1 |       NA | 204.8905 | 20791.32 | 7.300212 | 368.5164 | 564.3087 | 10.379783 |  86.99097 | 2.963135 | 0 |\n",
       "| 2 | 3.716080 | 129.4229 | 18630.06 | 6.635246 |       NA | 592.8854 | 15.180013 |  56.32908 | 4.500656 | 0 |\n",
       "| 3 | 8.099124 | 224.2363 | 19909.54 | 9.275884 |       NA | 418.6062 | 16.868637 |  66.42009 | 3.055934 | 0 |\n",
       "| 4 | 8.316766 | 214.3734 | 22018.42 | 8.059332 | 356.8861 | 363.2665 | 18.436524 | 100.34167 | 4.628771 | 0 |\n",
       "| 5 | 9.092223 | 181.1015 | 17978.99 | 6.546600 | 310.1357 | 398.4108 | 11.558279 |  31.99799 | 4.075075 | 0 |\n",
       "| 6 | 5.584087 | 188.3133 | 28748.69 | 7.544869 | 326.6784 | 280.4679 |  8.399735 |  54.91786 | 2.559708 | 0 |\n",
       "\n"
      ],
      "text/plain": [
       "  ph       Hardness Solids   Chloramines Sulfate  Conductivity Organic_carbon\n",
       "1       NA 204.8905 20791.32 7.300212    368.5164 564.3087     10.379783     \n",
       "2 3.716080 129.4229 18630.06 6.635246          NA 592.8854     15.180013     \n",
       "3 8.099124 224.2363 19909.54 9.275884          NA 418.6062     16.868637     \n",
       "4 8.316766 214.3734 22018.42 8.059332    356.8861 363.2665     18.436524     \n",
       "5 9.092223 181.1015 17978.99 6.546600    310.1357 398.4108     11.558279     \n",
       "6 5.584087 188.3133 28748.69 7.544869    326.6784 280.4679      8.399735     \n",
       "  Trihalomethanes Turbidity Potability\n",
       "1  86.99097       2.963135  0         \n",
       "2  56.32908       4.500656  0         \n",
       "3  66.42009       3.055934  0         \n",
       "4 100.34167       4.628771  0         \n",
       "5  31.99799       4.075075  0         \n",
       "6  54.91786       2.559708  0         "
      ]
     },
     "metadata": {},
     "output_type": "display_data"
    },
    {
     "data": {
      "text/plain": [
       "       ph            Hardness          Solids         Chloramines    \n",
       " Min.   : 0.000   Min.   : 47.43   Min.   :  320.9   Min.   : 0.352  \n",
       " 1st Qu.: 6.093   1st Qu.:176.85   1st Qu.:15666.7   1st Qu.: 6.127  \n",
       " Median : 7.037   Median :196.97   Median :20927.8   Median : 7.130  \n",
       " Mean   : 7.081   Mean   :196.37   Mean   :22014.1   Mean   : 7.122  \n",
       " 3rd Qu.: 8.062   3rd Qu.:216.67   3rd Qu.:27332.8   3rd Qu.: 8.115  \n",
       " Max.   :14.000   Max.   :323.12   Max.   :61227.2   Max.   :13.127  \n",
       " NA's   :491                                                         \n",
       "    Sulfate       Conductivity   Organic_carbon  Trihalomethanes  \n",
       " Min.   :129.0   Min.   :181.5   Min.   : 2.20   Min.   :  0.738  \n",
       " 1st Qu.:307.7   1st Qu.:365.7   1st Qu.:12.07   1st Qu.: 55.845  \n",
       " Median :333.1   Median :421.9   Median :14.22   Median : 66.622  \n",
       " Mean   :333.8   Mean   :426.2   Mean   :14.28   Mean   : 66.396  \n",
       " 3rd Qu.:360.0   3rd Qu.:481.8   3rd Qu.:16.56   3rd Qu.: 77.337  \n",
       " Max.   :481.0   Max.   :753.3   Max.   :28.30   Max.   :124.000  \n",
       " NA's   :781                                     NA's   :162      \n",
       "   Turbidity       Potability    \n",
       " Min.   :1.450   Min.   :0.0000  \n",
       " 1st Qu.:3.440   1st Qu.:0.0000  \n",
       " Median :3.955   Median :0.0000  \n",
       " Mean   :3.967   Mean   :0.3901  \n",
       " 3rd Qu.:4.500   3rd Qu.:1.0000  \n",
       " Max.   :6.739   Max.   :1.0000  \n",
       "                                 "
      ]
     },
     "metadata": {},
     "output_type": "display_data"
    },
    {
     "data": {
      "text/html": [
       "3276"
      ],
      "text/latex": [
       "3276"
      ],
      "text/markdown": [
       "3276"
      ],
      "text/plain": [
       "[1] 3276"
      ]
     },
     "metadata": {},
     "output_type": "display_data"
    },
    {
     "data": {
      "text/html": [
       "<style>\n",
       ".list-inline {list-style: none; margin:0; padding: 0}\n",
       ".list-inline>li {display: inline-block}\n",
       ".list-inline>li:not(:last-child)::after {content: \"\\00b7\"; padding: 0 .5ex}\n",
       "</style>\n",
       "<ol class=list-inline><li>3276</li><li>10</li></ol>\n"
      ],
      "text/latex": [
       "\\begin{enumerate*}\n",
       "\\item 3276\n",
       "\\item 10\n",
       "\\end{enumerate*}\n"
      ],
      "text/markdown": [
       "1. 3276\n",
       "2. 10\n",
       "\n",
       "\n"
      ],
      "text/plain": [
       "[1] 3276   10"
      ]
     },
     "metadata": {},
     "output_type": "display_data"
    }
   ],
   "source": [
    "\n",
    "water.quality <- read.csv('C:/Users/ashis/Downloads/water_potability.csv')\n",
    "head(water.quality)\n",
    "summary(water.quality)\n",
    "nrow(water.quality)\n",
    "dim(water.quality)"
   ]
  },
  {
   "cell_type": "code",
   "execution_count": 3,
   "metadata": {
    "vscode": {
     "languageId": "r"
    }
   },
   "outputs": [
    {
     "data": {
      "text/html": [
       "1265"
      ],
      "text/latex": [
       "1265"
      ],
      "text/markdown": [
       "1265"
      ],
      "text/plain": [
       "[1] 1265"
      ]
     },
     "metadata": {},
     "output_type": "display_data"
    },
    {
     "data": {
      "text/html": [
       "491"
      ],
      "text/latex": [
       "491"
      ],
      "text/markdown": [
       "491"
      ],
      "text/plain": [
       "[1] 491"
      ]
     },
     "metadata": {},
     "output_type": "display_data"
    },
    {
     "data": {
      "text/html": [
       "0"
      ],
      "text/latex": [
       "0"
      ],
      "text/markdown": [
       "0"
      ],
      "text/plain": [
       "[1] 0"
      ]
     },
     "metadata": {},
     "output_type": "display_data"
    },
    {
     "data": {
      "text/html": [
       "0"
      ],
      "text/latex": [
       "0"
      ],
      "text/markdown": [
       "0"
      ],
      "text/plain": [
       "[1] 0"
      ]
     },
     "metadata": {},
     "output_type": "display_data"
    },
    {
     "data": {
      "text/html": [
       "0"
      ],
      "text/latex": [
       "0"
      ],
      "text/markdown": [
       "0"
      ],
      "text/plain": [
       "[1] 0"
      ]
     },
     "metadata": {},
     "output_type": "display_data"
    },
    {
     "data": {
      "text/html": [
       "781"
      ],
      "text/latex": [
       "781"
      ],
      "text/markdown": [
       "781"
      ],
      "text/plain": [
       "[1] 781"
      ]
     },
     "metadata": {},
     "output_type": "display_data"
    },
    {
     "data": {
      "text/html": [
       "0"
      ],
      "text/latex": [
       "0"
      ],
      "text/markdown": [
       "0"
      ],
      "text/plain": [
       "[1] 0"
      ]
     },
     "metadata": {},
     "output_type": "display_data"
    },
    {
     "data": {
      "text/html": [
       "0"
      ],
      "text/latex": [
       "0"
      ],
      "text/markdown": [
       "0"
      ],
      "text/plain": [
       "[1] 0"
      ]
     },
     "metadata": {},
     "output_type": "display_data"
    },
    {
     "data": {
      "text/html": [
       "162"
      ],
      "text/latex": [
       "162"
      ],
      "text/markdown": [
       "162"
      ],
      "text/plain": [
       "[1] 162"
      ]
     },
     "metadata": {},
     "output_type": "display_data"
    },
    {
     "data": {
      "text/html": [
       "0"
      ],
      "text/latex": [
       "0"
      ],
      "text/markdown": [
       "0"
      ],
      "text/plain": [
       "[1] 0"
      ]
     },
     "metadata": {},
     "output_type": "display_data"
    },
    {
     "data": {
      "text/html": [
       "0"
      ],
      "text/latex": [
       "0"
      ],
      "text/markdown": [
       "0"
      ],
      "text/plain": [
       "[1] 0"
      ]
     },
     "metadata": {},
     "output_type": "display_data"
    }
   ],
   "source": [
    "sum(apply(water.quality, 1, anyNA))\n",
    "sum(is.na(water.quality$ph))\n",
    "sum(is.na(water.quality$Hardness))\n",
    "sum(is.na(water.quality$Solids))\n",
    "sum(is.na(water.quality$Chloramines))\n",
    "sum(is.na(water.quality$Sulfate))\n",
    "sum(is.na(water.quality$Conductivity))\n",
    "sum(is.na(water.quality$Organic_carbon))\n",
    "sum(is.na(water.quality$Trihalomethanes))\n",
    "sum(is.na(water.quality$Turbidity))\n",
    "sum(is.na(water.quality$Potability))"
   ]
  },
  {
   "cell_type": "markdown",
   "metadata": {},
   "source": [
    "Our dataset has missing values in the pH, Sulfate and trihalomethanes columns. This will have to be either dropped or imputed"
   ]
  },
  {
   "cell_type": "code",
   "execution_count": 4,
   "metadata": {
    "vscode": {
     "languageId": "r"
    }
   },
   "outputs": [
    {
     "data": {
      "image/png": "[encoded data removed]",
      "text/plain": [
       "plot without title"
      ]
     },
     "metadata": {
      "image/png": {
       "height": 420,
       "width": 420
      }
     },
     "output_type": "display_data"
    }
   ],
   "source": [
    "pairs(water.quality)\n"
   ]
  },
  {
   "cell_type": "markdown",
   "metadata": {},
   "source": [
    "Since the pH, Sulfate and Trihalomethanes Columns have null values, we have to impute them. For this we make use of the mice package to both visualize and impute the missing data."
   ]
  },
  {
   "cell_type": "code",
   "execution_count": 5,
   "metadata": {
    "vscode": {
     "languageId": "r"
    }
   },
   "outputs": [
    {
     "data": {
      "text/html": [
       "<table class=\"dataframe\">\n",
       "<caption>A matrix: 9 × 11 of type dbl</caption>\n",
       "<thead>\n",
       "\t<tr><th></th><th scope=col>Hardness</th><th scope=col>Solids</th><th scope=col>Chloramines</th><th scope=col>Conductivity</th><th scope=col>Organic_carbon</th><th scope=col>Turbidity</th><th scope=col>Potability</th><th scope=col>Trihalomethanes</th><th scope=col>ph</th><th scope=col>Sulfate</th><th scope=col></th></tr>\n",
       "</thead>\n",
       "<tbody>\n",
       "\t<tr><th scope=row>2011</th><td>1</td><td>1</td><td>1</td><td>1</td><td>1</td><td>1</td><td>1</td><td>  1</td><td>  1</td><td>  1</td><td>   0</td></tr>\n",
       "\t<tr><th scope=row>638</th><td>1</td><td>1</td><td>1</td><td>1</td><td>1</td><td>1</td><td>1</td><td>  1</td><td>  1</td><td>  0</td><td>   1</td></tr>\n",
       "\t<tr><th scope=row>362</th><td>1</td><td>1</td><td>1</td><td>1</td><td>1</td><td>1</td><td>1</td><td>  1</td><td>  0</td><td>  1</td><td>   1</td></tr>\n",
       "\t<tr><th scope=row>103</th><td>1</td><td>1</td><td>1</td><td>1</td><td>1</td><td>1</td><td>1</td><td>  1</td><td>  0</td><td>  0</td><td>   2</td></tr>\n",
       "\t<tr><th scope=row>105</th><td>1</td><td>1</td><td>1</td><td>1</td><td>1</td><td>1</td><td>1</td><td>  0</td><td>  1</td><td>  1</td><td>   1</td></tr>\n",
       "\t<tr><th scope=row>31</th><td>1</td><td>1</td><td>1</td><td>1</td><td>1</td><td>1</td><td>1</td><td>  0</td><td>  1</td><td>  0</td><td>   2</td></tr>\n",
       "\t<tr><th scope=row>17</th><td>1</td><td>1</td><td>1</td><td>1</td><td>1</td><td>1</td><td>1</td><td>  0</td><td>  0</td><td>  1</td><td>   2</td></tr>\n",
       "\t<tr><th scope=row>9</th><td>1</td><td>1</td><td>1</td><td>1</td><td>1</td><td>1</td><td>1</td><td>  0</td><td>  0</td><td>  0</td><td>   3</td></tr>\n",
       "\t<tr><th scope=row></th><td>0</td><td>0</td><td>0</td><td>0</td><td>0</td><td>0</td><td>0</td><td>162</td><td>491</td><td>781</td><td>1434</td></tr>\n",
       "</tbody>\n",
       "</table>\n"
      ],
      "text/latex": [
       "A matrix: 9 × 11 of type dbl\n",
       "\\begin{tabular}{r|lllllllllll}\n",
       "  & Hardness & Solids & Chloramines & Conductivity & Organic\\_carbon & Turbidity & Potability & Trihalomethanes & ph & Sulfate & \\\\\n",
       "\\hline\n",
       "\t2011 & 1 & 1 & 1 & 1 & 1 & 1 & 1 &   1 &   1 &   1 &    0\\\\\n",
       "\t638 & 1 & 1 & 1 & 1 & 1 & 1 & 1 &   1 &   1 &   0 &    1\\\\\n",
       "\t362 & 1 & 1 & 1 & 1 & 1 & 1 & 1 &   1 &   0 &   1 &    1\\\\\n",
       "\t103 & 1 & 1 & 1 & 1 & 1 & 1 & 1 &   1 &   0 &   0 &    2\\\\\n",
       "\t105 & 1 & 1 & 1 & 1 & 1 & 1 & 1 &   0 &   1 &   1 &    1\\\\\n",
       "\t31 & 1 & 1 & 1 & 1 & 1 & 1 & 1 &   0 &   1 &   0 &    2\\\\\n",
       "\t17 & 1 & 1 & 1 & 1 & 1 & 1 & 1 &   0 &   0 &   1 &    2\\\\\n",
       "\t9 & 1 & 1 & 1 & 1 & 1 & 1 & 1 &   0 &   0 &   0 &    3\\\\\n",
       "\t & 0 & 0 & 0 & 0 & 0 & 0 & 0 & 162 & 491 & 781 & 1434\\\\\n",
       "\\end{tabular}\n"
      ],
      "text/markdown": [
       "\n",
       "A matrix: 9 × 11 of type dbl\n",
       "\n",
       "| <!--/--> | Hardness | Solids | Chloramines | Conductivity | Organic_carbon | Turbidity | Potability | Trihalomethanes | ph | Sulfate | <!----> |\n",
       "|---|---|---|---|---|---|---|---|---|---|---|---|\n",
       "| 2011 | 1 | 1 | 1 | 1 | 1 | 1 | 1 |   1 |   1 |   1 |    0 |\n",
       "| 638 | 1 | 1 | 1 | 1 | 1 | 1 | 1 |   1 |   1 |   0 |    1 |\n",
       "| 362 | 1 | 1 | 1 | 1 | 1 | 1 | 1 |   1 |   0 |   1 |    1 |\n",
       "| 103 | 1 | 1 | 1 | 1 | 1 | 1 | 1 |   1 |   0 |   0 |    2 |\n",
       "| 105 | 1 | 1 | 1 | 1 | 1 | 1 | 1 |   0 |   1 |   1 |    1 |\n",
       "| 31 | 1 | 1 | 1 | 1 | 1 | 1 | 1 |   0 |   1 |   0 |    2 |\n",
       "| 17 | 1 | 1 | 1 | 1 | 1 | 1 | 1 |   0 |   0 |   1 |    2 |\n",
       "| 9 | 1 | 1 | 1 | 1 | 1 | 1 | 1 |   0 |   0 |   0 |    3 |\n",
       "| <!----> | 0 | 0 | 0 | 0 | 0 | 0 | 0 | 162 | 491 | 781 | 1434 |\n",
       "\n"
      ],
      "text/plain": [
       "     Hardness Solids Chloramines Conductivity Organic_carbon Turbidity\n",
       "2011 1        1      1           1            1              1        \n",
       "638  1        1      1           1            1              1        \n",
       "362  1        1      1           1            1              1        \n",
       "103  1        1      1           1            1              1        \n",
       "105  1        1      1           1            1              1        \n",
       "31   1        1      1           1            1              1        \n",
       "17   1        1      1           1            1              1        \n",
       "9    1        1      1           1            1              1        \n",
       "     0        0      0           0            0              0        \n",
       "     Potability Trihalomethanes ph  Sulfate     \n",
       "2011 1            1               1   1        0\n",
       "638  1            1               1   0        1\n",
       "362  1            1               0   1        1\n",
       "103  1            1               0   0        2\n",
       "105  1            0               1   1        1\n",
       "31   1            0               1   0        2\n",
       "17   1            0               0   1        2\n",
       "9    1            0               0   0        3\n",
       "     0          162             491 781     1434"
      ]
     },
     "metadata": {},
     "output_type": "display_data"
    },
    {
     "data": {
      "image/png": "[encoded data removed]",
      "text/plain": [
       "plot without title"
      ]
     },
     "metadata": {
      "image/png": {
       "height": 420,
       "width": 420
      }
     },
     "output_type": "display_data"
    }
   ],
   "source": [
    "# Impute missing data using mice\n",
    "md.pattern(water.quality, rotate.names = TRUE)"
   ]
  },
  {
   "cell_type": "markdown",
   "metadata": {},
   "source": [
    "The above shows us the missing values in our dataset.\n",
    "\n",
    "Blue means no missing value, and red means missing value.\n",
    "\n",
    "The numbers on the left show the number of instances of a particular pattern of missing values occurring in the dataset.\n",
    "\n",
    "The numbers on the right are equal to the number of missing values in each pattern (notice the number of red squares)\n",
    "\n",
    "The numbers at the bottom record the total number of missing values for each variable\n",
    "\n",
    "We use the random forest method to to impute the missing data points"
   ]
  },
  {
   "cell_type": "code",
   "execution_count": 6,
   "metadata": {
    "vscode": {
     "languageId": "r"
    }
   },
   "outputs": [],
   "source": [
    "# Alternative imputing methods (median, pmm, CART and lasso normalization)\n",
    "# water.quality$ph[is.na(water.quality$ph)] <- median(water.quality$ph, na.rm = TRUE)\n",
    "# water.quality$Sulfate[is.na(water.quality$Sulfate)] <- median(water.quality$Sulfate, na.rm = TRUE)\n",
    "# water.quality$Trihalomethanes[is.na(water.quality$Trihalomethanes)] <- median(water.quality$Trihalomethanes, na.rm = TRUE)\n",
    "\n",
    "# water.quality <- complete(mice(water.quality, method=\"pmm\"))\n",
    "# water.quality <- complete(mice(water.quality, method=\"cart\"))\n",
    "# water.quality <- complete(mice(water.quality, method=\"lasso.norm\"))\n",
    "\n",
    "water.quality_original <- water.quality\n",
    "\n",
    "Random.seed <- c(\"Mersenne-Twister\", 530)\n",
    "set.seed(530)\n",
    "imputation_result <- missForest(water.quality, xtrue = water.quality_original)\n",
    "water.quality <- imputation_result$ximp\n"
   ]
  },
  {
   "cell_type": "code",
   "execution_count": 7,
   "metadata": {
    "vscode": {
     "languageId": "r"
    }
   },
   "outputs": [
    {
     "name": "stdout",
     "output_type": "stream",
     "text": [
      " /\\     /\\\n",
      "{  `---'  }\n",
      "{  O   O  }\n",
      "==>  V <==  No need for mice. This data set is completely observed.\n",
      " \\  \\|/  /\n",
      "  `-----'\n",
      "\n"
     ]
    },
    {
     "data": {
      "text/html": [
       "<table class=\"dataframe\">\n",
       "<caption>A matrix: 2 × 11 of type dbl</caption>\n",
       "<thead>\n",
       "\t<tr><th></th><th scope=col>ph</th><th scope=col>Hardness</th><th scope=col>Solids</th><th scope=col>Chloramines</th><th scope=col>Sulfate</th><th scope=col>Conductivity</th><th scope=col>Organic_carbon</th><th scope=col>Trihalomethanes</th><th scope=col>Turbidity</th><th scope=col>Potability</th><th scope=col></th></tr>\n",
       "</thead>\n",
       "<tbody>\n",
       "\t<tr><th scope=row>3276</th><td>1</td><td>1</td><td>1</td><td>1</td><td>1</td><td>1</td><td>1</td><td>1</td><td>1</td><td>1</td><td>0</td></tr>\n",
       "\t<tr><th scope=row></th><td>0</td><td>0</td><td>0</td><td>0</td><td>0</td><td>0</td><td>0</td><td>0</td><td>0</td><td>0</td><td>0</td></tr>\n",
       "</tbody>\n",
       "</table>\n"
      ],
      "text/latex": [
       "A matrix: 2 × 11 of type dbl\n",
       "\\begin{tabular}{r|lllllllllll}\n",
       "  & ph & Hardness & Solids & Chloramines & Sulfate & Conductivity & Organic\\_carbon & Trihalomethanes & Turbidity & Potability & \\\\\n",
       "\\hline\n",
       "\t3276 & 1 & 1 & 1 & 1 & 1 & 1 & 1 & 1 & 1 & 1 & 0\\\\\n",
       "\t & 0 & 0 & 0 & 0 & 0 & 0 & 0 & 0 & 0 & 0 & 0\\\\\n",
       "\\end{tabular}\n"
      ],
      "text/markdown": [
       "\n",
       "A matrix: 2 × 11 of type dbl\n",
       "\n",
       "| <!--/--> | ph | Hardness | Solids | Chloramines | Sulfate | Conductivity | Organic_carbon | Trihalomethanes | Turbidity | Potability | <!----> |\n",
       "|---|---|---|---|---|---|---|---|---|---|---|---|\n",
       "| 3276 | 1 | 1 | 1 | 1 | 1 | 1 | 1 | 1 | 1 | 1 | 0 |\n",
       "| <!----> | 0 | 0 | 0 | 0 | 0 | 0 | 0 | 0 | 0 | 0 | 0 |\n",
       "\n"
      ],
      "text/plain": [
       "     ph Hardness Solids Chloramines Sulfate Conductivity Organic_carbon\n",
       "3276 1  1        1      1           1       1            1             \n",
       "     0  0        0      0           0       0            0             \n",
       "     Trihalomethanes Turbidity Potability  \n",
       "3276 1               1         1          0\n",
       "     0               0         0          0"
      ]
     },
     "metadata": {},
     "output_type": "display_data"
    },
    {
     "data": {
      "image/png": "[encoded data removed]",
      "text/plain": [
       "plot without title"
      ]
     },
     "metadata": {
      "image/png": {
       "height": 420,
       "width": 420
      }
     },
     "output_type": "display_data"
    }
   ],
   "source": [
    "md.pattern(water.quality, rotate.names = TRUE)"
   ]
  },
  {
   "cell_type": "markdown",
   "metadata": {},
   "source": [
    "# Exploratory Data Analysis\n",
    "\n",
    "We will first be looking into the description of how our dataset is in terms of potable and not-potable water."
   ]
  },
  {
   "cell_type": "code",
   "execution_count": 8,
   "metadata": {
    "vscode": {
     "languageId": "r"
    }
   },
   "outputs": [
    {
     "name": "stderr",
     "output_type": "stream",
     "text": [
      "Warning message:\n",
      "\"\u001b[1m\u001b[22mThe dot-dot notation (`..count..`) was deprecated in ggplot2 3.4.0.\n",
      "\u001b[36mℹ\u001b[39m Please use `after_stat(count)` instead.\"\n"
     ]
    },
    {
     "data": {
      "image/png": "[encoded data removed]",
      "text/plain": [
       "plot without title"
      ]
     },
     "metadata": {
      "image/png": {
       "height": 420,
       "width": 420
      }
     },
     "output_type": "display_data"
    }
   ],
   "source": [
    "ggplot(water.quality) + geom_bar(aes(x = factor(Potability)), fill='lightblue', color='black', stat='count') +\n",
    "  geom_text(stat='count',aes(x = factor(Potability), label=..count..), vjust=2) +\n",
    "  xlab('Potable') + ylab('Count')"
   ]
  },
  {
   "cell_type": "code",
   "execution_count": 9,
   "metadata": {
    "vscode": {
     "languageId": "r"
    }
   },
   "outputs": [
    {
     "name": "stdout",
     "output_type": "stream",
     "text": [
      "[1] \"Non-Potable\"\n"
     ]
    },
    {
     "data": {
      "text/plain": [
       "       ph            Hardness          Solids         Chloramines    \n",
       " Min.   : 0.000   Min.   : 98.45   Min.   :  320.9   Min.   : 1.684  \n",
       " 1st Qu.: 6.175   1st Qu.:177.82   1st Qu.:15663.1   1st Qu.: 6.156  \n",
       " Median : 7.079   Median :197.12   Median :20809.6   Median : 7.090  \n",
       " Mean   : 7.091   Mean   :196.73   Mean   :21777.5   Mean   : 7.092  \n",
       " 3rd Qu.: 7.985   3rd Qu.:216.12   3rd Qu.:27006.2   3rd Qu.: 8.066  \n",
       " Max.   :14.000   Max.   :304.24   Max.   :61227.2   Max.   :12.653  \n",
       "    Sulfate       Conductivity   Organic_carbon   Trihalomethanes  \n",
       " Min.   :203.4   Min.   :181.5   Min.   : 4.372   Min.   :  0.738  \n",
       " 1st Qu.:317.1   1st Qu.:368.5   1st Qu.:12.101   1st Qu.: 56.442  \n",
       " Median :333.6   Median :422.2   Median :14.294   Median : 66.418  \n",
       " Mean   :334.5   Mean   :426.7   Mean   :14.364   Mean   : 66.318  \n",
       " 3rd Qu.:350.7   3rd Qu.:480.7   3rd Qu.:16.649   3rd Qu.: 76.538  \n",
       " Max.   :460.1   Max.   :753.3   Max.   :28.300   Max.   :120.030  \n",
       "   Turbidity       Potability\n",
       " Min.   :1.450   Min.   :0   \n",
       " 1st Qu.:3.444   1st Qu.:0   \n",
       " Median :3.948   Median :0   \n",
       " Mean   :3.966   Mean   :0   \n",
       " 3rd Qu.:4.496   3rd Qu.:0   \n",
       " Max.   :6.739   Max.   :0   "
      ]
     },
     "metadata": {},
     "output_type": "display_data"
    },
    {
     "name": "stdout",
     "output_type": "stream",
     "text": [
      "[1] \"Potable\"\n"
     ]
    },
    {
     "data": {
      "text/plain": [
       "       ph             Hardness          Solids         Chloramines    \n",
       " Min.   : 0.2275   Min.   : 47.43   Min.   :  728.8   Min.   : 0.352  \n",
       " 1st Qu.: 6.3478   1st Qu.:174.33   1st Qu.:15669.0   1st Qu.: 6.094  \n",
       " Median : 7.0455   Median :196.63   Median :21199.4   Median : 7.215  \n",
       " Mean   : 7.0736   Mean   :195.80   Mean   :22384.0   Mean   : 7.169  \n",
       " 3rd Qu.: 7.7865   3rd Qu.:218.00   3rd Qu.:27973.2   3rd Qu.: 8.199  \n",
       " Max.   :13.1754   Max.   :323.12   Max.   :56488.7   Max.   :13.127  \n",
       "    Sulfate       Conductivity   Organic_carbon  Trihalomethanes  \n",
       " Min.   :129.0   Min.   :201.6   Min.   : 2.20   Min.   :  8.176  \n",
       " 1st Qu.:310.6   1st Qu.:360.9   1st Qu.:12.03   1st Qu.: 56.911  \n",
       " Median :333.3   Median :420.7   Median :14.16   Median : 66.718  \n",
       " Mean   :332.7   Mean   :425.4   Mean   :14.16   Mean   : 66.557  \n",
       " 3rd Qu.:356.4   3rd Qu.:484.2   3rd Qu.:16.36   3rd Qu.: 77.067  \n",
       " Max.   :481.0   Max.   :695.4   Max.   :23.60   Max.   :124.000  \n",
       "   Turbidity       Potability\n",
       " Min.   :1.492   Min.   :1   \n",
       " 1st Qu.:3.431   1st Qu.:1   \n",
       " Median :3.959   Median :1   \n",
       " Mean   :3.968   Mean   :1   \n",
       " 3rd Qu.:4.510   3rd Qu.:1   \n",
       " Max.   :6.494   Max.   :1   "
      ]
     },
     "metadata": {},
     "output_type": "display_data"
    }
   ],
   "source": [
    "print(\"Non-Potable\")\n",
    "summary(subset(water.quality, Potability == 0))\n",
    "print(\"Potable\")\n",
    "summary(subset(water.quality, Potability == 1))"
   ]
  },
  {
   "cell_type": "code",
   "execution_count": 10,
   "metadata": {
    "vscode": {
     "languageId": "r"
    }
   },
   "outputs": [
    {
     "data": {
      "image/png": "[encoded data removed]",
      "text/plain": [
       "Plot with title \"\""
      ]
     },
     "metadata": {
      "image/png": {
       "height": 420,
       "width": 420
      }
     },
     "output_type": "display_data"
    }
   ],
   "source": [
    "correlations <- cor(water.quality)\n",
    "corrplot(correlations, method=\"number\", col=colorRampPalette(c(\"blue\",\"red\"))(20))\n"
   ]
  },
  {
   "cell_type": "markdown",
   "metadata": {},
   "source": [
    "All the features have very weak correlations with one another. Hence they are independent of one another."
   ]
  },
  {
   "cell_type": "code",
   "execution_count": 11,
   "metadata": {
    "vscode": {
     "languageId": "r"
    }
   },
   "outputs": [
    {
     "name": "stderr",
     "output_type": "stream",
     "text": [
      "Warning message:\n",
      "\"\u001b[1m\u001b[22m`aes_string()` was deprecated in ggplot2 3.0.0.\n",
      "\u001b[36mℹ\u001b[39m Please use tidy evaluation idioms with `aes()`.\n",
      "\u001b[36mℹ\u001b[39m See also `vignette(\"ggplot2-in-packages\")` for more information.\"\n"
     ]
    },
    {
     "data": {
      "image/png": "[encoded data removed]",
      "text/plain": [
       "plot without title"
      ]
     },
     "metadata": {
      "image/png": {
       "height": 420,
       "width": 420
      }
     },
     "output_type": "display_data"
    },
    {
     "data": {
      "image/png": "[encoded data removed]",
      "text/plain": [
       "plot without title"
      ]
     },
     "metadata": {
      "image/png": {
       "height": 420,
       "width": 420
      }
     },
     "output_type": "display_data"
    },
    {
     "data": {
      "image/png": "[encoded data removed]",
      "text/plain": [
       "plot without title"
      ]
     },
     "metadata": {
      "image/png": {
       "height": 420,
       "width": 420
      }
     },
     "output_type": "display_data"
    },
    {
     "data": {
      "image/png": "[encoded data removed]",
      "text/plain": [
       "plot without title"
      ]
     },
     "metadata": {
      "image/png": {
       "height": 420,
       "width": 420
      }
     },
     "output_type": "display_data"
    },
    {
     "data": {
      "image/png": "[encoded data removed]",
      "text/plain": [
       "plot without title"
      ]
     },
     "metadata": {
      "image/png": {
       "height": 420,
       "width": 420
      }
     },
     "output_type": "display_data"
    },
    {
     "data": {
      "image/png": "[encoded data removed]",
      "text/plain": [
       "plot without title"
      ]
     },
     "metadata": {
      "image/png": {
       "height": 420,
       "width": 420
      }
     },
     "output_type": "display_data"
    },
    {
     "data": {
      "image/png": "[encoded data removed]",
      "text/plain": [
       "plot without title"
      ]
     },
     "metadata": {
      "image/png": {
       "height": 420,
       "width": 420
      }
     },
     "output_type": "display_data"
    },
    {
     "data": {
      "image/png": "[encoded data removed]",
      "text/plain": [
       "plot without title"
      ]
     },
     "metadata": {
      "image/png": {
       "height": 420,
       "width": 420
      }
     },
     "output_type": "display_data"
    },
    {
     "data": {
      "image/png": "[encoded data removed]",
      "text/plain": [
       "plot without title"
      ]
     },
     "metadata": {
      "image/png": {
       "height": 420,
       "width": 420
      }
     },
     "output_type": "display_data"
    }
   ],
   "source": [
    "features <- c(\"ph\", \"Hardness\", \"Solids\", \"Chloramines\", \"Sulfate\", \"Conductivity\", \"Organic_carbon\", \"Trihalomethanes\", \"Turbidity\")\n",
    "for (feature in features) {\n",
    "  p <- ggplot(water.quality, aes_string(x=feature, fill=\"factor(Potability)\")) + \n",
    "    geom_density(alpha = 0.3) +\n",
    "    labs(title = paste(\"KDE of\", feature, \"based on Potability\"), x = feature) +\n",
    "    scale_fill_discrete(name = \"Potability\", labels = c(\"Not Potable\", \"Potable\"))\n",
    "  print(p)\n",
    "}"
   ]
  },
  {
   "cell_type": "code",
   "execution_count": 12,
   "metadata": {
    "vscode": {
     "languageId": "r"
    }
   },
   "outputs": [
    {
     "name": "stdout",
     "output_type": "stream",
     "text": [
      "             ph        Hardness          Solids     Chloramines         Sulfate \n",
      "    0.020766315    -0.039323689     0.621349818    -0.012092900    -0.045991521 \n",
      "   Conductivity  Organic_carbon Trihalomethanes       Turbidity \n",
      "    0.264369105     0.025520890    -0.087586712    -0.007813063 \n",
      "             ph        Hardness          Solids     Chloramines         Sulfate \n",
      "       4.215267        3.613001        3.440320        3.587170        4.491691 \n",
      "   Conductivity  Organic_carbon Trihalomethanes       Turbidity \n",
      "       2.721499        3.042511        3.394568        2.935464 \n"
     ]
    }
   ],
   "source": [
    "skewness_values <- sapply(water.quality[, 1:9], skewness)\n",
    "print(skewness_values)\n",
    "\n",
    "kurtosis_values <- sapply(water.quality[, 1:9], kurtosis)\n",
    "print(kurtosis_values)"
   ]
  },
  {
   "cell_type": "markdown",
   "metadata": {},
   "source": [
    "Hence from the above values we can see that the features have close to normal distributions.\n",
    "\n",
    "# Building our Models\n",
    "\n",
    "We will now focus on building our classification models to see which one would give us a better result. In this case we will have to take two splits of our dataset:\n",
    "\n",
    "- 50/50\n",
    "- 80/20\n",
    "\n",
    "And compare our methods at each split. We will also make use of 5-fold cross validation whenever it is needed.\n",
    "\n",
    "## Model 1: Logistic Regression\n",
    "\n",
    "The first method we are choosing is Logistic Regression. Logistic regression is good for dealing with data that has a binary output and works based on a sigmoid function, as it considers the log odds. If we were to try to fit such data with a normal linear regression model, it would produce probability values less than 0 or greater than 1, which would not make sense given that our outputs are fixed binary values."
   ]
  },
  {
   "cell_type": "code",
   "execution_count": 13,
   "metadata": {
    "vscode": {
     "languageId": "r"
    }
   },
   "outputs": [
    {
     "data": {
      "text/plain": [
       "\n",
       "Call:\n",
       "glm(formula = Potability ~ ., family = \"binomial\", data = train_set)\n",
       "\n",
       "Coefficients:\n",
       "                  Estimate Std. Error z value Pr(>|z|)\n",
       "(Intercept)     -4.136e-01  8.853e-01  -0.467    0.640\n",
       "ph               5.887e-03  3.507e-02   0.168    0.867\n",
       "Hardness         3.711e-04  1.581e-03   0.235    0.814\n",
       "Solids           7.326e-06  5.863e-06   1.250    0.211\n",
       "Chloramines      7.128e-04  3.261e-02   0.022    0.983\n",
       "Sulfate         -8.104e-04  1.449e-03  -0.559    0.576\n",
       "Conductivity     5.351e-04  6.375e-04   0.839    0.401\n",
       "Organic_carbon  -1.082e-02  1.573e-02  -0.688    0.492\n",
       "Trihalomethanes -2.351e-03  3.150e-03  -0.746    0.455\n",
       "Turbidity        7.501e-03  6.448e-02   0.116    0.907\n",
       "\n",
       "(Dispersion parameter for binomial family taken to be 1)\n",
       "\n",
       "    Null deviance: 2188.3  on 1637  degrees of freedom\n",
       "Residual deviance: 2184.4  on 1628  degrees of freedom\n",
       "AIC: 2204.4\n",
       "\n",
       "Number of Fisher Scoring iterations: 4\n"
      ]
     },
     "metadata": {},
     "output_type": "display_data"
    }
   ],
   "source": [
    "Random.seed <- c(\"Mersenne-Twister\", 530)\n",
    "set.seed(530)\n",
    "indices <- sample(1:nrow(water.quality), 0.5 * nrow(water.quality), replace = FALSE)\n",
    "train_set <- water.quality[indices, ]\n",
    "test_set <- water.quality[-indices, ]\n",
    "\n",
    "logit.train <- glm(Potability ~ ., data=train_set, family = \"binomial\")\n",
    "summary(logit.train)"
   ]
  },
  {
   "cell_type": "markdown",
   "metadata": {},
   "source": [
    "The above shows the estimated model for a 50/50 train test split, and how it fits the given data.\n",
    "\n",
    "The null deviance, residual deviance, and the Akaike information criterion give us the indications as to how well our model fits the data.\n",
    "\n",
    "**Null Deviance** tells us how well the target is predicted by the intercept term by itself.\n",
    "\n",
    "**Residual Deviance** tells us how well the model fits the data with all independent variables.\n",
    "\n",
    "The deviance residual is -2 * log likelihood, which we find below"
   ]
  },
  {
   "cell_type": "code",
   "execution_count": null,
   "metadata": {
    "vscode": {
     "languageId": "r"
    }
   },
   "outputs": [],
   "source": []
  },
  {
   "cell_type": "code",
   "execution_count": 14,
   "metadata": {
    "vscode": {
     "languageId": "r"
    }
   },
   "outputs": [
    {
     "data": {
      "text/plain": [
       "'log Lik.' -1092.206 (df=10)"
      ]
     },
     "metadata": {},
     "output_type": "display_data"
    }
   ],
   "source": [
    "logLik(logit.train)"
   ]
  },
  {
   "cell_type": "markdown",
   "metadata": {},
   "source": [
    "These measures can tell us if a model with the predictors do a better job of fitting the data than one with just an intercept (null model). For this we do the chi-square test. If we get a smaller p-value for this test, the model holds a high significance."
   ]
  },
  {
   "cell_type": "code",
   "execution_count": 15,
   "metadata": {
    "vscode": {
     "languageId": "r"
    }
   },
   "outputs": [
    {
     "data": {
      "text/html": [
       "0.920140595025149"
      ],
      "text/latex": [
       "0.920140595025149"
      ],
      "text/markdown": [
       "0.920140595025149"
      ],
      "text/plain": [
       "[1] 0.9201406"
      ]
     },
     "metadata": {},
     "output_type": "display_data"
    }
   ],
   "source": [
    "with(logit.train, pchisq(null.deviance - deviance, df.null - df.residual, lower.tail = FALSE))"
   ]
  },
  {
   "cell_type": "markdown",
   "metadata": {},
   "source": [
    "Here we can see that the p-value is high, which means that our model isn't doing a good job in predicting the potability of the water sample.\n",
    "\n",
    "Let's see the accuracy and other characteristics of our model. We first do so using our testing dataset."
   ]
  },
  {
   "cell_type": "code",
   "execution_count": 16,
   "metadata": {
    "vscode": {
     "languageId": "r"
    }
   },
   "outputs": [
    {
     "data": {
      "text/html": [
       "<table class=\"dataframe\">\n",
       "<caption>A data.frame: 6 × 10</caption>\n",
       "<thead>\n",
       "\t<tr><th></th><th scope=col>ph</th><th scope=col>Hardness</th><th scope=col>Solids</th><th scope=col>Chloramines</th><th scope=col>Sulfate</th><th scope=col>Conductivity</th><th scope=col>Organic_carbon</th><th scope=col>Trihalomethanes</th><th scope=col>Turbidity</th><th scope=col>Potability</th></tr>\n",
       "\t<tr><th></th><th scope=col>&lt;dbl&gt;</th><th scope=col>&lt;dbl&gt;</th><th scope=col>&lt;dbl&gt;</th><th scope=col>&lt;dbl&gt;</th><th scope=col>&lt;dbl&gt;</th><th scope=col>&lt;dbl&gt;</th><th scope=col>&lt;dbl&gt;</th><th scope=col>&lt;dbl&gt;</th><th scope=col>&lt;dbl&gt;</th><th scope=col>&lt;int&gt;</th></tr>\n",
       "</thead>\n",
       "<tbody>\n",
       "\t<tr><th scope=row>2</th><td> 3.716080</td><td>129.4229</td><td>18630.06</td><td>6.635246</td><td>336.5433</td><td>592.8854</td><td>15.180013</td><td> 56.32908</td><td>4.500656</td><td>0</td></tr>\n",
       "\t<tr><th scope=row>4</th><td> 8.316766</td><td>214.3734</td><td>22018.42</td><td>8.059332</td><td>356.8861</td><td>363.2665</td><td>18.436524</td><td>100.34167</td><td>4.628771</td><td>0</td></tr>\n",
       "\t<tr><th scope=row>6</th><td> 5.584087</td><td>188.3133</td><td>28748.69</td><td>7.544869</td><td>326.6784</td><td>280.4679</td><td> 8.399735</td><td> 54.91786</td><td>2.559708</td><td>0</td></tr>\n",
       "\t<tr><th scope=row>8</th><td> 8.635849</td><td>203.3615</td><td>13672.09</td><td>4.563009</td><td>303.3098</td><td>474.6076</td><td>12.363817</td><td> 62.79831</td><td>4.401425</td><td>0</td></tr>\n",
       "\t<tr><th scope=row>9</th><td> 6.810541</td><td>118.9886</td><td>14285.58</td><td>7.804174</td><td>268.6469</td><td>389.3756</td><td>12.706049</td><td> 53.92885</td><td>3.595017</td><td>0</td></tr>\n",
       "\t<tr><th scope=row>10</th><td>11.180284</td><td>227.2315</td><td>25484.51</td><td>9.077200</td><td>404.0416</td><td>563.8855</td><td>17.927806</td><td> 71.97660</td><td>4.370562</td><td>0</td></tr>\n",
       "</tbody>\n",
       "</table>\n"
      ],
      "text/latex": [
       "A data.frame: 6 × 10\n",
       "\\begin{tabular}{r|llllllllll}\n",
       "  & ph & Hardness & Solids & Chloramines & Sulfate & Conductivity & Organic\\_carbon & Trihalomethanes & Turbidity & Potability\\\\\n",
       "  & <dbl> & <dbl> & <dbl> & <dbl> & <dbl> & <dbl> & <dbl> & <dbl> & <dbl> & <int>\\\\\n",
       "\\hline\n",
       "\t2 &  3.716080 & 129.4229 & 18630.06 & 6.635246 & 336.5433 & 592.8854 & 15.180013 &  56.32908 & 4.500656 & 0\\\\\n",
       "\t4 &  8.316766 & 214.3734 & 22018.42 & 8.059332 & 356.8861 & 363.2665 & 18.436524 & 100.34167 & 4.628771 & 0\\\\\n",
       "\t6 &  5.584087 & 188.3133 & 28748.69 & 7.544869 & 326.6784 & 280.4679 &  8.399735 &  54.91786 & 2.559708 & 0\\\\\n",
       "\t8 &  8.635849 & 203.3615 & 13672.09 & 4.563009 & 303.3098 & 474.6076 & 12.363817 &  62.79831 & 4.401425 & 0\\\\\n",
       "\t9 &  6.810541 & 118.9886 & 14285.58 & 7.804174 & 268.6469 & 389.3756 & 12.706049 &  53.92885 & 3.595017 & 0\\\\\n",
       "\t10 & 11.180284 & 227.2315 & 25484.51 & 9.077200 & 404.0416 & 563.8855 & 17.927806 &  71.97660 & 4.370562 & 0\\\\\n",
       "\\end{tabular}\n"
      ],
      "text/markdown": [
       "\n",
       "A data.frame: 6 × 10\n",
       "\n",
       "| <!--/--> | ph &lt;dbl&gt; | Hardness &lt;dbl&gt; | Solids &lt;dbl&gt; | Chloramines &lt;dbl&gt; | Sulfate &lt;dbl&gt; | Conductivity &lt;dbl&gt; | Organic_carbon &lt;dbl&gt; | Trihalomethanes &lt;dbl&gt; | Turbidity &lt;dbl&gt; | Potability &lt;int&gt; |\n",
       "|---|---|---|---|---|---|---|---|---|---|---|\n",
       "| 2 |  3.716080 | 129.4229 | 18630.06 | 6.635246 | 336.5433 | 592.8854 | 15.180013 |  56.32908 | 4.500656 | 0 |\n",
       "| 4 |  8.316766 | 214.3734 | 22018.42 | 8.059332 | 356.8861 | 363.2665 | 18.436524 | 100.34167 | 4.628771 | 0 |\n",
       "| 6 |  5.584087 | 188.3133 | 28748.69 | 7.544869 | 326.6784 | 280.4679 |  8.399735 |  54.91786 | 2.559708 | 0 |\n",
       "| 8 |  8.635849 | 203.3615 | 13672.09 | 4.563009 | 303.3098 | 474.6076 | 12.363817 |  62.79831 | 4.401425 | 0 |\n",
       "| 9 |  6.810541 | 118.9886 | 14285.58 | 7.804174 | 268.6469 | 389.3756 | 12.706049 |  53.92885 | 3.595017 | 0 |\n",
       "| 10 | 11.180284 | 227.2315 | 25484.51 | 9.077200 | 404.0416 | 563.8855 | 17.927806 |  71.97660 | 4.370562 | 0 |\n",
       "\n"
      ],
      "text/plain": [
       "   ph        Hardness Solids   Chloramines Sulfate  Conductivity Organic_carbon\n",
       "2   3.716080 129.4229 18630.06 6.635246    336.5433 592.8854     15.180013     \n",
       "4   8.316766 214.3734 22018.42 8.059332    356.8861 363.2665     18.436524     \n",
       "6   5.584087 188.3133 28748.69 7.544869    326.6784 280.4679      8.399735     \n",
       "8   8.635849 203.3615 13672.09 4.563009    303.3098 474.6076     12.363817     \n",
       "9   6.810541 118.9886 14285.58 7.804174    268.6469 389.3756     12.706049     \n",
       "10 11.180284 227.2315 25484.51 9.077200    404.0416 563.8855     17.927806     \n",
       "   Trihalomethanes Turbidity Potability\n",
       "2   56.32908       4.500656  0         \n",
       "4  100.34167       4.628771  0         \n",
       "6   54.91786       2.559708  0         \n",
       "8   62.79831       4.401425  0         \n",
       "9   53.92885       3.595017  0         \n",
       "10  71.97660       4.370562  0         "
      ]
     },
     "metadata": {},
     "output_type": "display_data"
    }
   ],
   "source": [
    "head(test_set)"
   ]
  },
  {
   "cell_type": "code",
   "execution_count": 17,
   "metadata": {
    "vscode": {
     "languageId": "r"
    }
   },
   "outputs": [
    {
     "data": {
      "text/html": [
       "<style>\n",
       ".list-inline {list-style: none; margin:0; padding: 0}\n",
       ".list-inline>li {display: inline-block}\n",
       ".list-inline>li:not(:last-child)::after {content: \"\\00b7\"; padding: 0 .5ex}\n",
       "</style>\n",
       "<ol class=list-inline><li>1638</li><li>10</li></ol>\n"
      ],
      "text/latex": [
       "\\begin{enumerate*}\n",
       "\\item 1638\n",
       "\\item 10\n",
       "\\end{enumerate*}\n"
      ],
      "text/markdown": [
       "1. 1638\n",
       "2. 10\n",
       "\n",
       "\n"
      ],
      "text/plain": [
       "[1] 1638   10"
      ]
     },
     "metadata": {},
     "output_type": "display_data"
    }
   ],
   "source": [
    "dim(test_set)"
   ]
  },
  {
   "cell_type": "code",
   "execution_count": 18,
   "metadata": {
    "vscode": {
     "languageId": "r"
    }
   },
   "outputs": [
    {
     "name": "stdout",
     "output_type": "stream",
     "text": [
      "                  \n",
      "predictions.binary   0   1\n",
      "                 0 996 641\n",
      "                 1   0   1\n"
     ]
    },
    {
     "data": {
      "text/html": [
       "'accuracy = 0.608669108669109'"
      ],
      "text/latex": [
       "'accuracy = 0.608669108669109'"
      ],
      "text/markdown": [
       "'accuracy = 0.608669108669109'"
      ],
      "text/plain": [
       "[1] \"accuracy = 0.608669108669109\""
      ]
     },
     "metadata": {},
     "output_type": "display_data"
    },
    {
     "data": {
      "text/html": [
       "'sensitivity = 1'"
      ],
      "text/latex": [
       "'sensitivity = 1'"
      ],
      "text/markdown": [
       "'sensitivity = 1'"
      ],
      "text/plain": [
       "[1] \"sensitivity = 1\""
      ]
     },
     "metadata": {},
     "output_type": "display_data"
    },
    {
     "data": {
      "text/html": [
       "'specificity = 0.00155763239875389'"
      ],
      "text/latex": [
       "'specificity = 0.00155763239875389'"
      ],
      "text/markdown": [
       "'specificity = 0.00155763239875389'"
      ],
      "text/plain": [
       "[1] \"specificity = 0.00155763239875389\""
      ]
     },
     "metadata": {},
     "output_type": "display_data"
    },
    {
     "data": {
      "text/html": [
       "'ppv = 0.608430054978619'"
      ],
      "text/latex": [
       "'ppv = 0.608430054978619'"
      ],
      "text/markdown": [
       "'ppv = 0.608430054978619'"
      ],
      "text/plain": [
       "[1] \"ppv = 0.608430054978619\""
      ]
     },
     "metadata": {},
     "output_type": "display_data"
    },
    {
     "data": {
      "text/html": [
       "'npv = 1'"
      ],
      "text/latex": [
       "'npv = 1'"
      ],
      "text/markdown": [
       "'npv = 1'"
      ],
      "text/plain": [
       "[1] \"npv = 1\""
      ]
     },
     "metadata": {},
     "output_type": "display_data"
    }
   ],
   "source": [
    "predictions <- predict(logit.train, test_set, type=\"response\")\n",
    "predictions.binary <- ifelse(predictions > 0.5, 1, 0)\n",
    "cftable <- table(predictions.binary, test_set$Potability)\n",
    "\n",
    "accuracy <- sum(diag(cftable))/sum(cftable)\n",
    "sensitivity<-cftable[1]/(cftable[1] + cftable[2])\n",
    "specificity <- cftable[4]/(cftable[3] + cftable[4])\n",
    "ppv <- cftable[1]/(cftable[1] + cftable[3])\n",
    "npv <- cftable[4]/(cftable[2] + cftable[4])\n",
    "print(cftable)\n",
    "sprintf(\"accuracy = %s\", accuracy)\n",
    "sprintf(\"sensitivity = %s\", sensitivity)\n",
    "sprintf(\"specificity = %s\", specificity)\n",
    "sprintf(\"ppv = %s\", ppv)\n",
    "sprintf(\"npv = %s\", npv)"
   ]
  },
  {
   "cell_type": "markdown",
   "metadata": {},
   "source": [
    "We now check our model's work on the training dataset."
   ]
  },
  {
   "cell_type": "code",
   "execution_count": 19,
   "metadata": {
    "vscode": {
     "languageId": "r"
    }
   },
   "outputs": [
    {
     "name": "stdout",
     "output_type": "stream",
     "text": [
      "                  \n",
      "predictions.binary    0    1\n",
      "                 0 1002  636\n"
     ]
    },
    {
     "data": {
      "text/html": [
       "'accuracy = 0.611721611721612'"
      ],
      "text/latex": [
       "'accuracy = 0.611721611721612'"
      ],
      "text/markdown": [
       "'accuracy = 0.611721611721612'"
      ],
      "text/plain": [
       "[1] \"accuracy = 0.611721611721612\""
      ]
     },
     "metadata": {},
     "output_type": "display_data"
    },
    {
     "data": {
      "text/html": [
       "'sensitivity = 0.611721611721612'"
      ],
      "text/latex": [
       "'sensitivity = 0.611721611721612'"
      ],
      "text/markdown": [
       "'sensitivity = 0.611721611721612'"
      ],
      "text/plain": [
       "[1] \"sensitivity = 0.611721611721612\""
      ]
     },
     "metadata": {},
     "output_type": "display_data"
    },
    {
     "data": {
      "text/html": [
       "'specificity = NA'"
      ],
      "text/latex": [
       "'specificity = NA'"
      ],
      "text/markdown": [
       "'specificity = NA'"
      ],
      "text/plain": [
       "[1] \"specificity = NA\""
      ]
     },
     "metadata": {},
     "output_type": "display_data"
    },
    {
     "data": {
      "text/html": [
       "'ppv = NA'"
      ],
      "text/latex": [
       "'ppv = NA'"
      ],
      "text/markdown": [
       "'ppv = NA'"
      ],
      "text/plain": [
       "[1] \"ppv = NA\""
      ]
     },
     "metadata": {},
     "output_type": "display_data"
    },
    {
     "data": {
      "text/html": [
       "'npv = NA'"
      ],
      "text/latex": [
       "'npv = NA'"
      ],
      "text/markdown": [
       "'npv = NA'"
      ],
      "text/plain": [
       "[1] \"npv = NA\""
      ]
     },
     "metadata": {},
     "output_type": "display_data"
    }
   ],
   "source": [
    "predictions <- predict(logit.train, train_set, type=\"response\")\n",
    "predictions.binary <- ifelse(predictions > 0.5, 1, 0)\n",
    "cftable <- table(predictions.binary, train_set$Potability)\n",
    "accuracy <- sum(diag(cftable))/sum(cftable)\n",
    "sensitivity<-cftable[1]/(cftable[1] + cftable[2])\n",
    "specificity <- cftable[4]/(cftable[3] + cftable[4])\n",
    "ppv <- cftable[1]/(cftable[1] + cftable[3])\n",
    "npv <- cftable[4]/(cftable[2] + cftable[4])\n",
    "print(cftable)\n",
    "sprintf(\"accuracy = %s\", accuracy)\n",
    "sprintf(\"sensitivity = %s\", sensitivity)\n",
    "sprintf(\"specificity = %s\", specificity)\n",
    "sprintf(\"ppv = %s\", ppv)\n",
    "sprintf(\"npv = %s\", npv)"
   ]
  },
  {
   "cell_type": "markdown",
   "metadata": {},
   "source": [
    "The results are as shown below\n",
    "\n",
    "#### Results of Logistic Regression Model\n",
    "\n",
    "**Model:**\n",
    "$$\n",
    "\\begin{align*}\n",
    "\\text{Potability} = logit(p) =\n",
    "&-4.136 \\times 10^{-1}\n",
    "+ (5.887 \\times 10^{-3} \\times \\text{ph})\n",
    "+ (3.711 \\times 10^{-4} \\times \\text{hardness})\n",
    "+ (7.326 \\times 10^{-6} \\times \\text{Solids}) \\\\\n",
    "&+ (7.128 \\times 10^{-4} \\times \\text{Chloramines})\n",
    "- (8.104 \\times 10^{-4} \\times \\text{Sulfate})\n",
    "+ (5.351 \\times 10^{-4} \\times \\text{Conductivity}) \\\\\n",
    "&- (1.082 \\times 10^{-2} \\times \\text{Organic\\_ carbon})\n",
    "- (2.351 \\times 10^{-3} \\times \\text{Trihalomethanes})\n",
    "+ (7.501 \\times 10^{-3} \\times \\text{Turbidity})\n",
    "\\end{align*}\n",
    "$$\n",
    "\n",
    "**Model Performance:**\n",
    "\n",
    "| Dataset | Accuracy | Sensitivity | Specificity | PPV | NPV |\n",
    "| ------- | -------- | ----------- | ----------- | --- | --- |\n",
    "| Test | 0.608669108669109 | 1 | 0.00155763239875389 | 0.608430054978619 | 1 |\n",
    "| Train | 0.611721611721612 | 0.611721611721612 | NA | NA | NA |\n"
   ]
  }
 ],
 "metadata": {
  "kernelspec": {
   "display_name": "R",
   "language": "R",
   "name": "ir"
  },
  "language_info": {
   "codemirror_mode": "r",
   "file_extension": ".r",
   "mimetype": "text/x-r-source",
   "name": "R",
   "pygments_lexer": "r",
   "version": "4.3.2"
  }
 },
 "nbformat": 4,
 "nbformat_minor": 2
}
